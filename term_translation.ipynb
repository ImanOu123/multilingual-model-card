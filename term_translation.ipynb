{
 "cells": [
  {
   "cell_type": "code",
   "execution_count": 1,
   "id": "7ca0f2d9",
   "metadata": {
    "execution": {
     "iopub.execute_input": "2024-06-02T13:22:07.874461Z",
     "iopub.status.busy": "2024-06-02T13:22:07.874025Z",
     "iopub.status.idle": "2024-06-02T13:22:15.445068Z",
     "shell.execute_reply": "2024-06-02T13:22:15.444057Z"
    },
    "papermill": {
     "duration": 7.576195,
     "end_time": "2024-06-02T13:22:15.446908",
     "exception": false,
     "start_time": "2024-06-02T13:22:07.870713",
     "status": "completed"
    },
    "tags": []
   },
   "outputs": [
    {
     "name": "stderr",
     "output_type": "stream",
     "text": [
      "/home/iouzzani/anaconda3/envs/myenv/lib/python3.9/site-packages/transformers/deepspeed.py:23: FutureWarning: transformers.deepspeed module is deprecated and will be removed in a future version. Please import deepspeed modules directly from transformers.integrations\n",
      "  warnings.warn(\n"
     ]
    },
    {
     "name": "stderr",
     "output_type": "stream",
     "text": [
      "[nltk_data] Downloading package punkt to /home/iouzzani/nltk_data...\n",
      "[nltk_data]   Package punkt is already up-to-date!\n"
     ]
    },
    {
     "name": "stderr",
     "output_type": "stream",
     "text": [
      "Special tokens have been added in the vocabulary, make sure the associated word embeddings are fine-tuned or trained.\n"
     ]
    },
    {
     "name": "stderr",
     "output_type": "stream",
     "text": [
      "/home/iouzzani/anaconda3/envs/myenv/lib/python3.9/site-packages/torch/_utils.py:831: UserWarning: TypedStorage is deprecated. It will be removed in the future and UntypedStorage will be the only storage class. This should only matter to you if you are using storages directly.  To access UntypedStorage directly, use tensor.untyped_storage() instead of tensor.storage()\n",
      "  return self.fget.__get__(instance, owner)()\n"
     ]
    }
   ],
   "source": [
    "from src.translator.translator import Translator\n",
    "\n",
    "trans = Translator()\n",
    "\n",
    "f = open(\"src/scientific_jargon_lst.txt\", \"r\")\n",
    "term_lst = list(map(lambda x: x.replace(\"\\n\", \"\"), f.readlines()))"
   ]
  },
  {
   "cell_type": "code",
   "execution_count": 2,
   "id": "244a8604",
   "metadata": {
    "execution": {
     "iopub.execute_input": "2024-06-02T13:22:15.453502Z",
     "iopub.status.busy": "2024-06-02T13:22:15.452892Z",
     "iopub.status.idle": "2024-06-02T13:59:16.728160Z",
     "shell.execute_reply": "2024-06-02T13:59:16.727486Z"
    },
    "papermill": {
     "duration": 2221.282333,
     "end_time": "2024-06-02T13:59:16.732170",
     "exception": false,
     "start_time": "2024-06-02T13:22:15.449837",
     "status": "completed"
    },
    "tags": []
   },
   "outputs": [
    {
     "name": "stdout",
     "output_type": "stream",
     "text": [
      "Translating using Seamless M4T ...\n"
     ]
    },
    {
     "name": "stdout",
     "output_type": "stream",
     "text": [
      "Chinese translation complete\n"
     ]
    },
    {
     "name": "stdout",
     "output_type": "stream",
     "text": [
      "Russian translation complete\n"
     ]
    },
    {
     "name": "stdout",
     "output_type": "stream",
     "text": [
      "Japanese translation complete\n"
     ]
    },
    {
     "name": "stdout",
     "output_type": "stream",
     "text": [
      "French translation complete\n"
     ]
    },
    {
     "name": "stdout",
     "output_type": "stream",
     "text": [
      "Arabic translation complete\n",
      "Scientific Jargon Dictionary Updated\n"
     ]
    }
   ],
   "source": [
    "# if terms not in scientific jargon dictionary, add to dictionary with translations\n",
    "\n",
    "scientific_jargon_dict = trans.read_json_file('src/scientific_jargon_dict.json')\n",
    "    \n",
    "tmp_dict = {\"Chinese\":{},\"Russian\":{}, \"Japanese\":{}, \"French\":{}, \"Arabic\":{}}\n",
    "for term in term_lst:\n",
    "    if term not in scientific_jargon_dict[\"Chinese\"]:\n",
    "        tmp_dict[\"Chinese\"][term] = \"\"\n",
    "        tmp_dict[\"Russian\"][term] = \"\"\n",
    "        tmp_dict[\"Japanese\"][term] = \"\"\n",
    "        tmp_dict[\"French\"][term] = \"\"\n",
    "        tmp_dict[\"Arabic\"][term] = \"\"\n",
    "\n",
    "print(\"Translating using Seamless M4T ...\")\n",
    "\n",
    "trans.translate_term_m4t(tmp_dict, \"English\", \"Chinese\")\n",
    "print(\"Chinese translation complete\")\n",
    "    \n",
    "trans.translate_term_m4t(tmp_dict, \"English\", \"Russian\")\n",
    "print(\"Russian translation complete\")\n",
    "    \n",
    "trans.translate_term_m4t(tmp_dict, \"English\", \"Japanese\")\n",
    "print(\"Japanese translation complete\")\n",
    "    \n",
    "trans.translate_term_m4t(tmp_dict, \"English\", \"French\")\n",
    "print(\"French translation complete\")\n",
    "    \n",
    "trans.translate_term_m4t(tmp_dict, \"English\", \"Arabic\")\n",
    "print(\"Arabic translation complete\")\n",
    "\n",
    "    \n",
    "scientific_jargon_dict.update(tmp_dict)\n",
    "trans.write_file_to_json(scientific_jargon_dict, 'src/scientific_jargon_dict.json')\n",
    "print(\"Scientific Jargon Dictionary Updated\")"
   ]
  }
 ],
 "metadata": {
  "kernelspec": {
   "display_name": "myenv-kernel",
   "language": "python",
   "name": "myenv-kernel"
  },
  "language_info": {
   "codemirror_mode": {
    "name": "ipython",
    "version": 3
   },
   "file_extension": ".py",
   "mimetype": "text/x-python",
   "name": "python",
   "nbconvert_exporter": "python",
   "pygments_lexer": "ipython3",
   "version": "3.9.19"
  },
  "papermill": {
   "default_parameters": {},
   "duration": 2231.497897,
   "end_time": "2024-06-02T13:59:18.256992",
   "environment_variables": {},
   "exception": null,
   "input_path": "term_translation.ipynb",
   "output_path": "term_translation.ipynb",
   "parameters": {},
   "start_time": "2024-06-02T13:22:06.759095",
   "version": "2.6.0"
  }
 },
 "nbformat": 4,
 "nbformat_minor": 5
}
