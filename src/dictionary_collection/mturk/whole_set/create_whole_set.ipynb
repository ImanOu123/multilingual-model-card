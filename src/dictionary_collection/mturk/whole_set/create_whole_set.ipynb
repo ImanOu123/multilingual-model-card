{
 "cells": [
  {
   "cell_type": "code",
   "execution_count": 13,
   "metadata": {},
   "outputs": [
    {
     "name": "stderr",
     "output_type": "stream",
     "text": [
      "4400it [00:00, 17450.27it/s]?, ?it/s]\n",
      "2852it [00:00, 15234.49it/s]00:01,  2.43it/s]\n",
      "4368it [00:00, 16562.09it/s]00:01,  2.32it/s]\n",
      "4070it [00:00, 16119.16it/s]00:00,  2.30it/s]\n",
      "3672it [00:00, 15551.75it/s]00:00,  2.27it/s]\n",
      "100%|██████████| 5/5 [00:02<00:00,  2.26it/s]\n"
     ]
    }
   ],
   "source": [
    "import pandas as pd\n",
    "from tqdm import tqdm\n",
    "from ast import literal_eval\n",
    "\n",
    "langs = ['Chinese', 'Arabic', 'French', 'Japanese', 'Russian']\n",
    "threshold = 0.5\n",
    "\n",
    "def select_rows_with_threshold(df, threshold):\n",
    "    def check_ratio(row):\n",
    "        try:\n",
    "            ratio_dict = literal_eval(row['prediction_ratio'])\n",
    "            return ratio_dict[0]['ratio'] >= threshold\n",
    "        except (ValueError, SyntaxError, TypeError, KeyError) as e:\n",
    "            print(row)\n",
    "            print(e)\n",
    "            return False\n",
    "\n",
    "    df = df.dropna(subset=['prediction_ratio'])\n",
    "    # Apply the function and filter the dataframe\n",
    "    tqdm.pandas()  # Enables progress bar for the apply function\n",
    "    filtered_df = df[df.apply(check_ratio, axis=1)]\n",
    "    \n",
    "    return filtered_df\n",
    "\n",
    "def get_translation(df):\n",
    "    valid_lst = []\n",
    "    for idx, row in tqdm(df.iterrows()):\n",
    "        ratio_dict = eval(row['prediction_ratio'])\n",
    "        valid_lst.append(ratio_dict[0]['word'])\n",
    "    df['gold_human'] = valid_lst\n",
    "    return df\n",
    "\n",
    "for lang in tqdm(langs):\n",
    "    df = pd.read_csv(f\"../analysis/{lang}.csv\")\n",
    "    filtered_df = select_rows_with_threshold(df, threshold)\n",
    "    filtered_df = get_translation(filtered_df)\n",
    "    filtered_df = filtered_df.reset_index(drop=True)\n",
    "    filtered_df.to_csv(f\"{lang}_whole.csv\", index=True)\n",
    "    "
   ]
  }
 ],
 "metadata": {
  "kernelspec": {
   "display_name": "mmmc",
   "language": "python",
   "name": "python3"
  },
  "language_info": {
   "codemirror_mode": {
    "name": "ipython",
    "version": 3
   },
   "file_extension": ".py",
   "mimetype": "text/x-python",
   "name": "python",
   "nbconvert_exporter": "python",
   "pygments_lexer": "ipython3",
   "version": "3.10.15"
  }
 },
 "nbformat": 4,
 "nbformat_minor": 2
}
