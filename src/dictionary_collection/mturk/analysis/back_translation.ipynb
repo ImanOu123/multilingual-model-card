{
 "cells": [
  {
   "cell_type": "code",
   "execution_count": 1,
   "metadata": {},
   "outputs": [],
   "source": [
    "import pandas as pd\n",
    "context_df = pd.read_json(\"/home/ubuntu/multilingual-model-card/src/dictionary_collection/growing_dict/mturk.json\")"
   ]
  },
  {
   "cell_type": "code",
   "execution_count": 9,
   "metadata": {},
   "outputs": [
    {
     "data": {
      "text/plain": [
       "'1: In addition to the usual quadratic kernels we also apply kernels that only span the pitch dimension and are supposed to detect overtones and harmonies (see Table 1). The autoregressive model is a ResNet as well, but with <mark>1D convolution</mark>s (Table 2).<br>'"
      ]
     },
     "execution_count": 9,
     "metadata": {},
     "output_type": "execute_result"
    }
   ],
   "source": [
    "context_df.loc[context_df['English'] == '1D convolution']['context'].item()"
   ]
  }
 ],
 "metadata": {
  "kernelspec": {
   "display_name": "mmmc",
   "language": "python",
   "name": "python3"
  },
  "language_info": {
   "codemirror_mode": {
    "name": "ipython",
    "version": 3
   },
   "file_extension": ".py",
   "mimetype": "text/x-python",
   "name": "python",
   "nbconvert_exporter": "python",
   "pygments_lexer": "ipython3",
   "version": "3.10.15"
  }
 },
 "nbformat": 4,
 "nbformat_minor": 2
}
