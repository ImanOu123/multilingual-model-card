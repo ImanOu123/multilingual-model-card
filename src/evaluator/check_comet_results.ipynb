{
 "cells": [
  {
   "cell_type": "code",
   "execution_count": 1,
   "metadata": {},
   "outputs": [],
   "source": [
    "import json\n",
    "import pandas as pd"
   ]
  },
  {
   "cell_type": "code",
   "execution_count": 2,
   "metadata": {},
   "outputs": [],
   "source": [
    "tgt_langs = [\n",
    "    \"Chinese\",\n",
    "    \"Arabic\",\n",
    "    \"French\",\n",
    "    \"Japanese\",\n",
    "    \"Russian\",\n",
    "]"
   ]
  },
  {
   "cell_type": "code",
   "execution_count": 3,
   "metadata": {},
   "outputs": [
    {
     "data": {
      "text/plain": [
       "dict_keys(['Chinese_scores', 'Chinese_system_score', 'Arabic_scores', 'Arabic_system_score', 'French_scores', 'French_system_score', 'Japanese_scores', 'Japanese_system_score', 'Russian_scores', 'Russian_system_score'])"
      ]
     },
     "execution_count": 3,
     "metadata": {},
     "output_type": "execute_result"
    }
   ],
   "source": [
    "# data_g = json.load(open(\"/home/jiaruil5/multilingual/multilingual-model-card/src/data_eval_6060/eval/predictions_dev_googletrans_comet.json\", 'r'))\n",
    "data_g = json.load(open(\"/home/jiaruil5/multilingual/multilingual-model-card/src/data_eval_6060/eval/predictions_dev_googletrans_comet_noref_xl.json\", 'r'))\n",
    "data_g.keys()"
   ]
  },
  {
   "cell_type": "code",
   "execution_count": 4,
   "metadata": {},
   "outputs": [
    {
     "data": {
      "text/plain": [
       "dict_keys(['Chinese_scores', 'Chinese_system_score', 'Arabic_scores', 'Arabic_system_score', 'French_scores', 'French_system_score', 'Japanese_scores', 'Japanese_system_score', 'Russian_scores', 'Russian_system_score'])"
      ]
     },
     "execution_count": 4,
     "metadata": {},
     "output_type": "execute_result"
    }
   ],
   "source": [
    "# data_s = json.load(open(\"/home/jiaruil5/multilingual/multilingual-model-card/src/data_eval_6060/eval/predictions_dev_seamless_comet.json\", 'r'))\n",
    "data_s = json.load(open(\"/home/jiaruil5/multilingual/multilingual-model-card/src/data_eval_6060/eval/predictions_dev_seamless_comet_noref_xl.json\", 'r'))\n",
    "data_s.keys()"
   ]
  },
  {
   "cell_type": "code",
   "execution_count": 5,
   "metadata": {},
   "outputs": [],
   "source": [
    "from collections import defaultdict\n",
    "scores_dict = defaultdict(list)\n",
    "for tgt_lang in tgt_langs:\n",
    "    # print(f\"{tgt_lang}_system_score\", data[f\"{tgt_lang}_system_score\"])\n",
    "    scores_dict[f\"{tgt_lang}_system_score\"].append(data_g[f\"{tgt_lang}_system_score\"])\n",
    "    scores_dict[f\"{tgt_lang}_system_score\"].append(data_s[f\"{tgt_lang}_system_score\"])"
   ]
  },
  {
   "cell_type": "code",
   "execution_count": 11,
   "metadata": {},
   "outputs": [
    {
     "data": {
      "text/html": [
       "<div>\n",
       "<style scoped>\n",
       "    .dataframe tbody tr th:only-of-type {\n",
       "        vertical-align: middle;\n",
       "    }\n",
       "\n",
       "    .dataframe tbody tr th {\n",
       "        vertical-align: top;\n",
       "    }\n",
       "\n",
       "    .dataframe thead th {\n",
       "        text-align: right;\n",
       "    }\n",
       "</style>\n",
       "<table border=\"1\" class=\"dataframe\">\n",
       "  <thead>\n",
       "    <tr style=\"text-align: right;\">\n",
       "      <th></th>\n",
       "      <th>googletrans</th>\n",
       "      <th>seamless</th>\n",
       "    </tr>\n",
       "  </thead>\n",
       "  <tbody>\n",
       "    <tr>\n",
       "      <th>Chinese_system_score</th>\n",
       "      <td>0.883238</td>\n",
       "      <td>0.838839</td>\n",
       "    </tr>\n",
       "    <tr>\n",
       "      <th>Arabic_system_score</th>\n",
       "      <td>0.875397</td>\n",
       "      <td>0.842705</td>\n",
       "    </tr>\n",
       "    <tr>\n",
       "      <th>French_system_score</th>\n",
       "      <td>0.847238</td>\n",
       "      <td>0.835571</td>\n",
       "    </tr>\n",
       "    <tr>\n",
       "      <th>Japanese_system_score</th>\n",
       "      <td>0.898531</td>\n",
       "      <td>0.850210</td>\n",
       "    </tr>\n",
       "    <tr>\n",
       "      <th>Russian_system_score</th>\n",
       "      <td>0.842348</td>\n",
       "      <td>0.819786</td>\n",
       "    </tr>\n",
       "  </tbody>\n",
       "</table>\n",
       "</div>"
      ],
      "text/plain": [
       "                       googletrans  seamless\n",
       "Chinese_system_score      0.883238  0.838839\n",
       "Arabic_system_score       0.875397  0.842705\n",
       "French_system_score       0.847238  0.835571\n",
       "Japanese_system_score     0.898531  0.850210\n",
       "Russian_system_score      0.842348  0.819786"
      ]
     },
     "execution_count": 11,
     "metadata": {},
     "output_type": "execute_result"
    }
   ],
   "source": [
    "# comet\n",
    "scores_dict = dict(scores_dict)\n",
    "df = pd.DataFrame(scores_dict)\n",
    "df = df.T\n",
    "df.columns = ['googletrans', 'seamless']\n",
    "df"
   ]
  },
  {
   "cell_type": "code",
   "execution_count": 6,
   "metadata": {},
   "outputs": [
    {
     "data": {
      "text/html": [
       "<div>\n",
       "<style scoped>\n",
       "    .dataframe tbody tr th:only-of-type {\n",
       "        vertical-align: middle;\n",
       "    }\n",
       "\n",
       "    .dataframe tbody tr th {\n",
       "        vertical-align: top;\n",
       "    }\n",
       "\n",
       "    .dataframe thead th {\n",
       "        text-align: right;\n",
       "    }\n",
       "</style>\n",
       "<table border=\"1\" class=\"dataframe\">\n",
       "  <thead>\n",
       "    <tr style=\"text-align: right;\">\n",
       "      <th></th>\n",
       "      <th>googletrans</th>\n",
       "      <th>seamless</th>\n",
       "    </tr>\n",
       "  </thead>\n",
       "  <tbody>\n",
       "    <tr>\n",
       "      <th>Chinese_system_score</th>\n",
       "      <td>0.697709</td>\n",
       "      <td>0.647375</td>\n",
       "    </tr>\n",
       "    <tr>\n",
       "      <th>Arabic_system_score</th>\n",
       "      <td>0.705548</td>\n",
       "      <td>0.675481</td>\n",
       "    </tr>\n",
       "    <tr>\n",
       "      <th>French_system_score</th>\n",
       "      <td>0.688482</td>\n",
       "      <td>0.673085</td>\n",
       "    </tr>\n",
       "    <tr>\n",
       "      <th>Japanese_system_score</th>\n",
       "      <td>0.756414</td>\n",
       "      <td>0.676290</td>\n",
       "    </tr>\n",
       "    <tr>\n",
       "      <th>Russian_system_score</th>\n",
       "      <td>0.706763</td>\n",
       "      <td>0.680274</td>\n",
       "    </tr>\n",
       "  </tbody>\n",
       "</table>\n",
       "</div>"
      ],
      "text/plain": [
       "                       googletrans  seamless\n",
       "Chinese_system_score      0.697709  0.647375\n",
       "Arabic_system_score       0.705548  0.675481\n",
       "French_system_score       0.688482  0.673085\n",
       "Japanese_system_score     0.756414  0.676290\n",
       "Russian_system_score      0.706763  0.680274"
      ]
     },
     "execution_count": 6,
     "metadata": {},
     "output_type": "execute_result"
    }
   ],
   "source": [
    "# comet_noref_xl\n",
    "scores_dict = dict(scores_dict)\n",
    "df = pd.DataFrame(scores_dict)\n",
    "df = df.T\n",
    "df.columns = ['googletrans', 'seamless']\n",
    "df"
   ]
  }
 ],
 "metadata": {
  "kernelspec": {
   "display_name": "new",
   "language": "python",
   "name": "new"
  },
  "language_info": {
   "codemirror_mode": {
    "name": "ipython",
    "version": 3
   },
   "file_extension": ".py",
   "mimetype": "text/x-python",
   "name": "python",
   "nbconvert_exporter": "python",
   "pygments_lexer": "ipython3",
   "version": "3.11.5"
  }
 },
 "nbformat": 4,
 "nbformat_minor": 2
}
