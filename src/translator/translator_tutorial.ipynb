{
 "cells": [
  {
   "cell_type": "code",
   "execution_count": 1,
   "metadata": {},
   "outputs": [
    {
     "name": "stderr",
     "output_type": "stream",
     "text": [
      "/home/wenkail/miniconda3/envs/llm_personality/lib/python3.10/site-packages/transformers/deepspeed.py:23: FutureWarning: transformers.deepspeed module is deprecated and will be removed in a future version. Please import deepspeed modules directly from transformers.integrations\n",
      "  warnings.warn(\n",
      "[nltk_data] Downloading package punkt to /home/wenkail/nltk_data...\n",
      "[nltk_data]   Package punkt is already up-to-date!\n"
     ]
    }
   ],
   "source": [
    "from translator import Translator"
   ]
  },
  {
   "cell_type": "code",
   "execution_count": 2,
   "metadata": {},
   "outputs": [
    {
     "name": "stderr",
     "output_type": "stream",
     "text": [
      "Special tokens have been added in the vocabulary, make sure the associated word embeddings are fine-tuned or trained.\n"
     ]
    }
   ],
   "source": [
    "# Load the translator\n",
    "\n",
    "trans = Translator()"
   ]
  },
  {
   "cell_type": "code",
   "execution_count": 3,
   "metadata": {},
   "outputs": [
    {
     "data": {
      "text/plain": [
       "{'Chinese': {'machine': '',\n",
       "  'machine translation': '',\n",
       "  'hidden markov model': ''}}"
      ]
     },
     "execution_count": 3,
     "metadata": {},
     "output_type": "execute_result"
    }
   ],
   "source": [
    "# Load the dictionary that need to be modified\n",
    "src_dict = trans.read_json_file(\"test_data.json\")\n",
    "src_dict"
   ]
  },
  {
   "cell_type": "code",
   "execution_count": 4,
   "metadata": {},
   "outputs": [
    {
     "data": {
      "text/plain": [
       "{'Chinese': {'machine': '机器',\n",
       "  'machine translation': '机器翻译',\n",
       "  'hidden markov model': '隐藏的马尔科夫模型'}}"
      ]
     },
     "execution_count": 4,
     "metadata": {},
     "output_type": "execute_result"
    }
   ],
   "source": [
    "# In seamless m4t, the maps of our picked language is: \n",
    "\n",
    "trans.translate_term_m4t(src_dict, \"English\", \"Chinese\")\n",
    "src_dict"
   ]
  },
  {
   "cell_type": "code",
   "execution_count": 5,
   "metadata": {},
   "outputs": [
    {
     "data": {
      "text/plain": [
       "{'Chinese': {'machine': '机器',\n",
       "  'machine translation': '机器翻译',\n",
       "  'hidden markov model': '隐马尔可夫模型'}}"
      ]
     },
     "execution_count": 5,
     "metadata": {},
     "output_type": "execute_result"
    }
   ],
   "source": [
    "# Load the dictionary that need to be modified, and test on google translation\n",
    "src_dict = trans.read_json_file(\"test_data.json\")\n",
    "trans.translate_term_google(src_dict, \"English\", \"Chinese\")\n",
    "src_dict"
   ]
  }
 ],
 "metadata": {
  "kernelspec": {
   "display_name": "llm_personality",
   "language": "python",
   "name": "python3"
  },
  "language_info": {
   "codemirror_mode": {
    "name": "ipython",
    "version": 3
   },
   "file_extension": ".py",
   "mimetype": "text/x-python",
   "name": "python",
   "nbconvert_exporter": "python",
   "pygments_lexer": "ipython3",
   "version": "3.10.13"
  }
 },
 "nbformat": 4,
 "nbformat_minor": 2
}
