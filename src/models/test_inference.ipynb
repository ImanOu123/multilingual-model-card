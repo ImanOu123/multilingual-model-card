{
 "cells": [
  {
   "cell_type": "code",
   "execution_count": 1,
   "id": "aeb13332",
   "metadata": {
    "execution": {
     "iopub.execute_input": "2024-05-30T10:07:17.387711Z",
     "iopub.status.busy": "2024-05-30T10:07:17.387365Z",
     "iopub.status.idle": "2024-05-30T10:07:17.401486Z",
     "shell.execute_reply": "2024-05-30T10:07:17.401044Z"
    },
    "papermill": {
     "duration": 0.019007,
     "end_time": "2024-05-30T10:07:17.402599",
     "exception": false,
     "start_time": "2024-05-30T10:07:17.383592",
     "status": "completed"
    },
    "tags": []
   },
   "outputs": [],
   "source": [
    "%load_ext autoreload\n",
    "%autoreload 2"
   ]
  },
  {
   "cell_type": "code",
   "execution_count": 2,
   "id": "e56bd299",
   "metadata": {
    "execution": {
     "iopub.execute_input": "2024-05-30T10:07:17.406599Z",
     "iopub.status.busy": "2024-05-30T10:07:17.406347Z",
     "iopub.status.idle": "2024-05-30T10:07:18.180324Z",
     "shell.execute_reply": "2024-05-30T10:07:18.179689Z"
    },
    "papermill": {
     "duration": 0.777468,
     "end_time": "2024-05-30T10:07:18.181885",
     "exception": false,
     "start_time": "2024-05-30T10:07:17.404417",
     "status": "completed"
    },
    "tags": []
   },
   "outputs": [],
   "source": [
    "import json\n",
    "import pandas as pd\n",
    "from tqdm import tqdm\n",
    "from llm import call\n",
    "from utils import *\n",
    "from config import get_model_config\n",
    "# from prompts import *"
   ]
  },
  {
   "cell_type": "code",
   "execution_count": 3,
   "id": "58de386b",
   "metadata": {
    "execution": {
     "iopub.execute_input": "2024-05-30T10:07:18.186482Z",
     "iopub.status.busy": "2024-05-30T10:07:18.186124Z",
     "iopub.status.idle": "2024-05-30T10:07:18.202097Z",
     "shell.execute_reply": "2024-05-30T10:07:18.201665Z"
    },
    "papermill": {
     "duration": 0.019391,
     "end_time": "2024-05-30T10:07:18.203162",
     "exception": false,
     "start_time": "2024-05-30T10:07:18.183771",
     "status": "completed"
    },
    "tags": []
   },
   "outputs": [],
   "source": [
    "### llama3 8b\n",
    "model = 'llama3_8b'\n",
    "def llm_config_func(llm):\n",
    "    llm.temperature = 0\n",
    "    llm.max_tokens = 4096\n",
    "    return llm\n",
    "config = get_model_config(model)\n",
    "\n",
    "### llama2 7b\n",
    "# model = 'llama2_7b'\n",
    "# def llm_config_func(llm):\n",
    "#     llm.temperature = 0\n",
    "#     llm.max_tokens = 2048\n",
    "#     return llm\n",
    "# config = get_model_config(model)\n",
    "\n",
    "### gpt3.5\n",
    "# model = 'gpt-3.5-turbo'\n",
    "# def llm_config_func(llm):\n",
    "#     llm.temperature = 0.8\n",
    "#     llm.max_tokens = 4096\n",
    "#     return llm\n",
    "# config = get_model_config(model)"
   ]
  },
  {
   "cell_type": "code",
   "execution_count": 4,
   "id": "c543fc0b",
   "metadata": {
    "execution": {
     "iopub.execute_input": "2024-05-30T10:07:18.207753Z",
     "iopub.status.busy": "2024-05-30T10:07:18.207528Z",
     "iopub.status.idle": "2024-05-30T10:07:18.221163Z",
     "shell.execute_reply": "2024-05-30T10:07:18.220719Z"
    },
    "papermill": {
     "duration": 0.016941,
     "end_time": "2024-05-30T10:07:18.222236",
     "exception": false,
     "start_time": "2024-05-30T10:07:18.205295",
     "status": "completed"
    },
    "tags": []
   },
   "outputs": [],
   "source": [
    "test = 'The IWSLT 2017 evaluation campaign has organised three tasks. The Multilingual task, which is about training machine translation systems handling many-to-many language directions, including so-called zero-shot directions. The Dialogue task, which calls for the integration of context information in machine translation, in order to resolve anaphoric references that typically occur in human-human dialogue turns. And, finally, the Lecture task, which offers the challenge of automatically transcribing and translating real-life university lectures. Following the tradition of these reports, we will described all tasks in detail and present the results of all runs submitted by their participants.'"
   ]
  },
  {
   "cell_type": "code",
   "execution_count": 5,
   "id": "111c101e",
   "metadata": {
    "execution": {
     "iopub.execute_input": "2024-05-30T10:07:18.226537Z",
     "iopub.status.busy": "2024-05-30T10:07:18.226213Z",
     "iopub.status.idle": "2024-05-30T10:07:18.961406Z",
     "shell.execute_reply": "2024-05-30T10:07:18.960705Z"
    },
    "papermill": {
     "duration": 0.738491,
     "end_time": "2024-05-30T10:07:18.962638",
     "exception": false,
     "start_time": "2024-05-30T10:07:18.224147",
     "status": "completed"
    },
    "tags": []
   },
   "outputs": [
    {
     "name": "stdout",
     "output_type": "stream",
     "text": [
      "You are a language expert with a focus on machine translation. Your task is to analyze the following model card and identify scientific jargon or terminology within the field of machine learning that might be challenging for machine translation software to accurately translate to Chinese, Russian, Japanese, French, and Arabic.\n",
      "            Respond in the following format (as a list): [Term 1, Term 2, Term 3, ...] Respond only as shown, with no additional discursive or explanatory text. \n",
      "            An example of a response is: [artificial intelligence, machine learning]\n",
      "The following text is:\n",
      "        \"The IWSLT 2017 evaluation campaign has organised three tasks. The Multilingual task, which is about training machine translation systems handling many-to-many language directions, including so-called zero-shot directions. The Dialogue task, which calls for the integration of context information in machine translation, in order to resolve anaphoric references that typically occur in human-human dialogue turns. And, finally, the Lecture task, which offers the challenge of automatically transcribing and translating real-life university lectures. Following the tradition of these reports, we will described all tasks in detail and present the results of all runs submitted by their participants.\"\n",
      "        \n"
     ]
    },
    {
     "name": "stdout",
     "output_type": "stream",
     "text": [
      "[anaphoric references, machine translation systems, many-to-many language directions, zero-shot directions, human-human dialogue turns]\n",
      "['anaphoric references', 'machine translation systems', 'many-to-many language directions', 'zero-shot directions', 'human-human dialogue turns']\n"
     ]
    }
   ],
   "source": [
    "prompt = [\n",
    "        \"\"\"You are a language expert with a focus on machine translation. Your task is to analyze the following model card and identify scientific jargon or terminology within the field of machine learning that might be challenging for machine translation software to accurately translate to Chinese, Russian, Japanese, French, and Arabic.\n",
    "            Respond in the following format (as a list): [Term 1, Term 2, Term 3, ...] Respond only as shown, with no additional discursive or explanatory text. \n",
    "            An example of a response is: [artificial intelligence, machine learning]\"\"\",\n",
    "            \n",
    "        \"\"\"The following text is:\n",
    "        \"{text}\"\n",
    "        \"\"\".format(text=test)\n",
    "]\n",
    "\n",
    "\n",
    "res = call(\n",
    "    prompt,\n",
    "    llm_config_func,\n",
    "    has_system_prompt=True,\n",
    "    model_version=model,\n",
    "    verbose=True,\n",
    "    **config\n",
    ")\n",
    "\n",
    "print(list(map(lambda s: s.strip(), res[1:-1].split(\",\"))))"
   ]
  }
 ],
 "metadata": {
  "kernelspec": {
   "display_name": "Python 3 (ipykernel)",
   "language": "python",
   "name": "python3"
  },
  "language_info": {
   "codemirror_mode": {
    "name": "ipython",
    "version": 3
   },
   "file_extension": ".py",
   "mimetype": "text/x-python",
   "name": "python",
   "nbconvert_exporter": "python",
   "pygments_lexer": "ipython3",
   "version": "3.9.19"
  },
  "papermill": {
   "default_parameters": {},
   "duration": 3.176614,
   "end_time": "2024-05-30T10:07:19.280120",
   "environment_variables": {},
   "exception": null,
   "input_path": "test_inference.ipynb",
   "output_path": "test_inference.ipynb",
   "parameters": {},
   "start_time": "2024-05-30T10:07:16.103506",
   "version": "2.6.0"
  }
 },
 "nbformat": 4,
 "nbformat_minor": 5
}