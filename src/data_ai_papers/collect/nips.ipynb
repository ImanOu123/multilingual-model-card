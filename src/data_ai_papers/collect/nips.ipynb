{
 "cells": [
  {
   "cell_type": "code",
   "execution_count": 1,
   "metadata": {},
   "outputs": [],
   "source": [
    "%load_ext autoreload\n",
    "%autoreload 2"
   ]
  },
  {
   "cell_type": "code",
   "execution_count": 2,
   "metadata": {},
   "outputs": [],
   "source": [
    "from bs4 import BeautifulSoup\n",
    "import json\n",
    "from rich import print\n",
    "import requests\n",
    "from tqdm import tqdm\n",
    "import re"
   ]
  },
  {
   "cell_type": "markdown",
   "metadata": {},
   "source": [
    "### Exploration"
   ]
  },
  {
   "cell_type": "code",
   "execution_count": 45,
   "metadata": {},
   "outputs": [],
   "source": [
    "def gain_section_block(soup):\n",
    "    section_block = {}\n",
    "    section_block['abstact'] = soup.find_all('div', class_='abstract-section')\n",
    "    section_block['display_card'] = soup.find_all('div', class_='displaycards touchup-date')\n",
    "    section_block['collapse'] = soup.find_all('div', class_='collapse')\n",
    "    \n",
    "    return section_block"
   ]
  },
  {
   "cell_type": "code",
   "execution_count": 46,
   "metadata": {},
   "outputs": [],
   "source": [
    "url = \"https://nips.cc/virtual/2022/awards_detail\"\n",
    "response = requests.get(url)\n",
    "response.raise_for_status()  # Raises an HTTPError for bad responses\n",
    "html_content = response.text\n",
    "soup = BeautifulSoup(html_content, 'html.parser')\n",
    "section_blocks = gain_section_block(soup)"
   ]
  },
  {
   "cell_type": "code",
   "execution_count": 51,
   "metadata": {},
   "outputs": [
    {
     "data": {
      "text/html": [
       "<pre style=\"white-space:pre;overflow-x:auto;line-height:normal;font-family:Menlo,'DejaVu Sans Mono',consolas,'Courier New',monospace\"><span style=\"font-weight: bold\">&lt;</span><span style=\"color: #ff00ff; text-decoration-color: #ff00ff; font-weight: bold\">div</span><span style=\"color: #000000; text-decoration-color: #000000\"> </span><span style=\"color: #808000; text-decoration-color: #808000\">class</span><span style=\"color: #000000; text-decoration-color: #000000\">=</span><span style=\"color: #008000; text-decoration-color: #008000\">\"displaycards touchup-date\"</span><span style=\"color: #000000; text-decoration-color: #000000\"> </span><span style=\"color: #808000; text-decoration-color: #808000\">id</span><span style=\"color: #000000; text-decoration-color: #000000\">=</span><span style=\"color: #008000; text-decoration-color: #008000\">\"event-16289\"</span><span style=\"color: #000000; text-decoration-color: #000000\">&gt;</span>\n",
       "<span style=\"color: #000000; text-decoration-color: #000000\">&lt;div </span><span style=\"color: #808000; text-decoration-color: #808000\">style</span><span style=\"color: #000000; text-decoration-color: #000000\">=</span><span style=\"color: #008000; text-decoration-color: #008000\">\"width:80%;margin:auto;\"</span><span style=\"color: #000000; text-decoration-color: #000000\">&gt;</span>\n",
       "<span style=\"color: #000000; text-decoration-color: #000000\">&lt;a </span><span style=\"color: #808000; text-decoration-color: #808000\">class</span><span style=\"color: #000000; text-decoration-color: #000000\">=</span><span style=\"color: #008000; text-decoration-color: #008000\">\"small-title\"</span><span style=\"color: #000000; text-decoration-color: #000000\"> </span><span style=\"color: #808000; text-decoration-color: #808000\">href</span><span style=\"color: #000000; text-decoration-color: #000000\">=</span><span style=\"color: #008000; text-decoration-color: #008000\">\"/virtual/2022/poster/16289\"</span><span style=\"color: #000000; text-decoration-color: #000000\">&gt;The Importance of Non-Markovianity in Maximum State </span>\n",
       "<span style=\"color: #000000; text-decoration-color: #000000\">Entropy Exploration&lt;</span><span style=\"color: #800080; text-decoration-color: #800080\">/</span><span style=\"color: #ff00ff; text-decoration-color: #ff00ff\">a</span><span style=\"color: #000000; text-decoration-color: #000000\">&gt;</span>\n",
       "<span style=\"color: #000000; text-decoration-color: #000000\">&lt;</span><span style=\"color: #800080; text-decoration-color: #800080\">/</span><span style=\"color: #ff00ff; text-decoration-color: #ff00ff\">div</span><span style=\"color: #000000; text-decoration-color: #000000\">&gt;</span>\n",
       "<span style=\"color: #000000; text-decoration-color: #000000\">&lt;div </span><span style=\"color: #808000; text-decoration-color: #808000\">class</span><span style=\"color: #000000; text-decoration-color: #000000\">=</span><span style=\"color: #008000; text-decoration-color: #008000\">\"type_display_name_minus_type\"</span><span style=\"color: #000000; text-decoration-color: #000000\">&gt;&lt;</span><span style=\"color: #800080; text-decoration-color: #800080\">/</span><span style=\"color: #ff00ff; text-decoration-color: #ff00ff\">div</span><span style=\"color: #000000; text-decoration-color: #000000\">&gt;</span>\n",
       "<span style=\"color: #000000; text-decoration-color: #000000\">&lt;div </span><span style=\"color: #808000; text-decoration-color: #808000\">class</span><span style=\"color: #000000; text-decoration-color: #000000\">=</span><span style=\"color: #008000; text-decoration-color: #008000\">\"author-str\"</span><span style=\"color: #000000; text-decoration-color: #000000\">&gt;Mirco Mutti · Riccardo De Santi · Marcello Restelli&lt;</span><span style=\"color: #800080; text-decoration-color: #800080\">/</span><span style=\"color: #ff00ff; text-decoration-color: #ff00ff\">div</span><span style=\"color: #000000; text-decoration-color: #000000\">&gt;</span>\n",
       "<span style=\"color: #000000; text-decoration-color: #000000\">&lt;div </span><span style=\"color: #808000; text-decoration-color: #808000\">class</span><span style=\"color: #000000; text-decoration-color: #000000\">=</span><span style=\"color: #008000; text-decoration-color: #008000\">\"author-str higher\"</span><span style=\"color: #000000; text-decoration-color: #000000\">&gt;&lt;</span><span style=\"color: #800080; text-decoration-color: #800080\">/</span><span style=\"color: #ff00ff; text-decoration-color: #ff00ff\">div</span><span style=\"color: #000000; text-decoration-color: #000000\">&gt;</span>\n",
       "<span style=\"color: #000000; text-decoration-color: #000000\">&lt;div </span><span style=\"color: #808000; text-decoration-color: #808000\">class</span><span style=\"color: #000000; text-decoration-color: #000000\">=</span><span style=\"color: #008000; text-decoration-color: #008000\">\"text-muted touchup-date-div\"</span><span style=\"color: #000000; text-decoration-color: #000000\"> </span><span style=\"color: #808000; text-decoration-color: #808000\">id</span><span style=\"color: #000000; text-decoration-color: #000000\">=</span><span style=\"color: #008000; text-decoration-color: #008000\">\"touchup-date-event-16289\"</span><span style=\"color: #000000; text-decoration-color: #000000\">&gt;&lt;</span><span style=\"color: #800080; text-decoration-color: #800080\">/</span><span style=\"color: #ff00ff; text-decoration-color: #ff00ff\">div</span><span style=\"color: #000000; text-decoration-color: #000000\">&gt;</span>\n",
       "<span style=\"color: #000000; text-decoration-color: #000000\">&lt;p </span><span style=\"color: #808000; text-decoration-color: #808000\">style</span><span style=\"color: #000000; text-decoration-color: #000000\">=</span><span style=\"color: #008000; text-decoration-color: #008000\">\"font-size:.9em;\"</span><span style=\"color: #000000; text-decoration-color: #000000\">&gt;</span><span style=\"color: #000000; text-decoration-color: #000000; font-weight: bold\">[</span><span style=\"color: #000000; text-decoration-color: #000000\"> Hall E </span><span style=\"color: #000000; text-decoration-color: #000000; font-weight: bold\">]</span><span style=\"color: #000000; text-decoration-color: #000000\">&lt;</span><span style=\"color: #800080; text-decoration-color: #800080\">/</span><span style=\"color: #ff00ff; text-decoration-color: #ff00ff\">p</span><span style=\"color: #000000; text-decoration-color: #000000\">&gt;</span>\n",
       "<span style=\"color: #000000; text-decoration-color: #000000\">&lt;img </span><span style=\"color: #808000; text-decoration-color: #808000\">alt</span><span style=\"color: #000000; text-decoration-color: #000000\">=</span><span style=\"color: #008000; text-decoration-color: #008000\">\"thumbnail\"</span><span style=\"color: #000000; text-decoration-color: #000000\"> </span><span style=\"color: #808000; text-decoration-color: #808000\">class</span><span style=\"color: #000000; text-decoration-color: #000000\">=</span><span style=\"color: #008000; text-decoration-color: #008000\">\"social-img-thumb\"</span><span style=\"color: #000000; text-decoration-color: #000000\"> </span>\n",
       "<span style=\"color: #808000; text-decoration-color: #808000\">src</span><span style=\"color: #000000; text-decoration-color: #000000\">=</span><span style=\"color: #008000; text-decoration-color: #008000\">\"/media/PosterPDFs/ICML%202022/d3630410c51e60941a9001a46871070e-thumb.png?t=1657525867.0852268\"</span><span style=\"color: #000000; text-decoration-color: #000000\">&gt;</span>\n",
       "<span style=\"color: #000000; text-decoration-color: #000000\">&lt;div </span><span style=\"color: #808000; text-decoration-color: #808000\">class</span><span style=\"color: #000000; text-decoration-color: #000000\">=</span><span style=\"color: #008000; text-decoration-color: #008000\">\"abstract-section\"</span><span style=\"color: #000000; text-decoration-color: #000000\">&gt;</span>\n",
       "<span style=\"color: #000000; text-decoration-color: #000000\">&lt;div&gt;</span>\n",
       "<span style=\"color: #000000; text-decoration-color: #000000\">&lt;a aria-</span><span style=\"color: #808000; text-decoration-color: #808000\">controls</span><span style=\"color: #000000; text-decoration-color: #000000\">=</span><span style=\"color: #008000; text-decoration-color: #008000\">\"collapse-event-abstract-16289\"</span><span style=\"color: #000000; text-decoration-color: #000000\"> aria-</span><span style=\"color: #808000; text-decoration-color: #808000\">expanded</span><span style=\"color: #000000; text-decoration-color: #000000\">=</span><span style=\"color: #008000; text-decoration-color: #008000\">\"false\"</span><span style=\"color: #000000; text-decoration-color: #000000\"> </span><span style=\"color: #808000; text-decoration-color: #808000\">class</span><span style=\"color: #000000; text-decoration-color: #000000\">=</span><span style=\"color: #008000; text-decoration-color: #008000\">\"abstract-link\"</span><span style=\"color: #000000; text-decoration-color: #000000\"> data-</span><span style=\"color: #808000; text-decoration-color: #808000\">toggle</span><span style=\"color: #000000; text-decoration-color: #000000\">=</span><span style=\"color: #008000; text-decoration-color: #008000\">\"collapse\"</span>\n",
       "<span style=\"color: #808000; text-decoration-color: #808000\">href</span><span style=\"color: #000000; text-decoration-color: #000000\">=</span><span style=\"color: #008000; text-decoration-color: #008000\">\"#collapse-event-abstract-16289\"</span><span style=\"color: #000000; text-decoration-color: #000000\"> </span><span style=\"color: #808000; text-decoration-color: #808000\">id</span><span style=\"color: #000000; text-decoration-color: #000000\">=</span><span style=\"color: #008000; text-decoration-color: #008000\">\"abstract-link-16289\"</span><span style=\"color: #000000; text-decoration-color: #000000\"> </span><span style=\"color: #808000; text-decoration-color: #808000\">role</span><span style=\"color: #000000; text-decoration-color: #000000\">=</span><span style=\"color: #008000; text-decoration-color: #008000\">\"button\"</span><span style=\"color: #000000; text-decoration-color: #000000\">&gt;</span>\n",
       "<span style=\"color: #000000; text-decoration-color: #000000\">                Abstract &lt;i </span><span style=\"color: #808000; text-decoration-color: #808000\">class</span><span style=\"color: #000000; text-decoration-color: #000000\">=</span><span style=\"color: #008000; text-decoration-color: #008000\">\"fas fa-caret-right\"</span><span style=\"color: #000000; text-decoration-color: #000000\"> </span><span style=\"color: #808000; text-decoration-color: #808000\">id</span><span style=\"color: #000000; text-decoration-color: #000000\">=</span><span style=\"color: #008000; text-decoration-color: #008000\">\"caret-16289\"</span><span style=\"color: #000000; text-decoration-color: #000000\">&gt;&lt;</span><span style=\"color: #800080; text-decoration-color: #800080\">/</span><span style=\"color: #ff00ff; text-decoration-color: #ff00ff\">i</span><span style=\"color: #000000; text-decoration-color: #000000\">&gt;</span>\n",
       "<span style=\"color: #000000; text-decoration-color: #000000\">&lt;</span><span style=\"color: #800080; text-decoration-color: #800080\">/</span><span style=\"color: #ff00ff; text-decoration-color: #ff00ff\">a</span><span style=\"color: #000000; text-decoration-color: #000000\">&gt;</span>\n",
       "<span style=\"color: #000000; text-decoration-color: #000000\">&lt;</span><span style=\"color: #800080; text-decoration-color: #800080\">/</span><span style=\"color: #ff00ff; text-decoration-color: #ff00ff\">div</span><span style=\"color: #000000; text-decoration-color: #000000\">&gt;</span>\n",
       "<span style=\"color: #000000; text-decoration-color: #000000\">&lt;</span><span style=\"color: #800080; text-decoration-color: #800080\">/</span><span style=\"color: #ff00ff; text-decoration-color: #ff00ff\">div</span><span style=\"color: #000000; text-decoration-color: #000000\">&gt;</span>\n",
       "<span style=\"color: #000000; text-decoration-color: #000000\">&lt;div </span><span style=\"color: #808000; text-decoration-color: #808000\">class</span><span style=\"color: #000000; text-decoration-color: #000000\">=</span><span style=\"color: #008000; text-decoration-color: #008000\">\"collapse\"</span><span style=\"color: #000000; text-decoration-color: #000000\"> </span><span style=\"color: #808000; text-decoration-color: #808000\">id</span><span style=\"color: #000000; text-decoration-color: #000000\">=</span><span style=\"color: #008000; text-decoration-color: #008000\">\"collapse-event-abstract-16289\"</span><span style=\"color: #000000; text-decoration-color: #000000\">&gt;</span>\n",
       "<span style=\"color: #000000; text-decoration-color: #000000\">&lt;div </span><span style=\"color: #808000; text-decoration-color: #808000\">class</span><span style=\"color: #000000; text-decoration-color: #000000\">=</span><span style=\"color: #008000; text-decoration-color: #008000\">\"abstract-display\"</span><span style=\"color: #000000; text-decoration-color: #000000\">&gt;</span>\n",
       "<span style=\"color: #000000; text-decoration-color: #000000\">&lt;p&gt;In the maximum state entropy exploration framework, an agent interacts with a reward-free environment to learn a</span>\n",
       "<span style=\"color: #000000; text-decoration-color: #000000\">policy that maximizes the entropy of the expected state visitations it is inducing. Hazan et al. </span><span style=\"color: #000000; text-decoration-color: #000000; font-weight: bold\">(</span><span style=\"color: #008080; text-decoration-color: #008080; font-weight: bold\">2019</span><span style=\"color: #000000; text-decoration-color: #000000; font-weight: bold\">)</span><span style=\"color: #000000; text-decoration-color: #000000\"> noted that </span>\n",
       "<span style=\"color: #000000; text-decoration-color: #000000\">the class of Markovian stochastic policies is sufficient for the maximum state entropy objective, and exploiting </span>\n",
       "<span style=\"color: #000000; text-decoration-color: #000000\">non-Markovianity is generally considered pointless in this setting. In this paper, we argue that non-Markovianity </span>\n",
       "<span style=\"color: #000000; text-decoration-color: #000000\">is instead paramount for maximum state entropy exploration in a finite-sample regime. Especially, we recast the </span>\n",
       "<span style=\"color: #000000; text-decoration-color: #000000\">objective to target the expected entropy of the induced state visitations in a single trial. Then, we show that the</span>\n",
       "<span style=\"color: #000000; text-decoration-color: #000000\">class of non-Markovian deterministic policies is sufficient for the introduced objective, while Markovian policies </span>\n",
       "<span style=\"color: #000000; text-decoration-color: #000000\">suffer non-zero regret in general. However, we prove that the problem of finding an optimal non-Markovian policy is</span>\n",
       "<span style=\"color: #000000; text-decoration-color: #000000\">NP-hard. Despite this negative result, we discuss avenues to address the problem in a tractable way and how </span>\n",
       "<span style=\"color: #000000; text-decoration-color: #000000\">non-Markovian exploration could benefit the sample efficiency of online reinforcement learning in future works.&lt;</span><span style=\"color: #800080; text-decoration-color: #800080\">/</span><span style=\"color: #ff00ff; text-decoration-color: #ff00ff\">p</span><span style=\"color: #000000; text-decoration-color: #000000\">&gt;</span>\n",
       "<span style=\"color: #000000; text-decoration-color: #000000\">&lt;</span><span style=\"color: #800080; text-decoration-color: #800080\">/</span><span style=\"color: #ff00ff; text-decoration-color: #ff00ff\">div</span><span style=\"color: #000000; text-decoration-color: #000000\">&gt;</span>\n",
       "<span style=\"color: #000000; text-decoration-color: #000000\">&lt;</span><span style=\"color: #800080; text-decoration-color: #800080\">/</span><span style=\"color: #ff00ff; text-decoration-color: #ff00ff\">div</span><span style=\"color: #000000; text-decoration-color: #000000\">&gt;</span>\n",
       "<span style=\"color: #000000; text-decoration-color: #000000\">&lt;</span><span style=\"color: #800080; text-decoration-color: #800080\">/</span><span style=\"color: #ff00ff; text-decoration-color: #ff00ff\">img</span><span style=\"color: #000000; text-decoration-color: #000000\">&gt;&lt;</span><span style=\"color: #800080; text-decoration-color: #800080\">/</span><span style=\"color: #ff00ff; text-decoration-color: #ff00ff\">div</span><span style=\"font-weight: bold\">&gt;</span>\n",
       "</pre>\n"
      ],
      "text/plain": [
       "\u001b[1m<\u001b[0m\u001b[1;95mdiv\u001b[0m\u001b[39m \u001b[0m\u001b[33mclass\u001b[0m\u001b[39m=\u001b[0m\u001b[32m\"displaycards\u001b[0m\u001b[32m touchup-date\"\u001b[0m\u001b[39m \u001b[0m\u001b[33mid\u001b[0m\u001b[39m=\u001b[0m\u001b[32m\"event\u001b[0m\u001b[32m-16289\"\u001b[0m\u001b[39m>\u001b[0m\n",
       "\u001b[39m<div \u001b[0m\u001b[33mstyle\u001b[0m\u001b[39m=\u001b[0m\u001b[32m\"width\u001b[0m\u001b[32m:80%;margin:auto;\"\u001b[0m\u001b[39m>\u001b[0m\n",
       "\u001b[39m<a \u001b[0m\u001b[33mclass\u001b[0m\u001b[39m=\u001b[0m\u001b[32m\"small\u001b[0m\u001b[32m-title\"\u001b[0m\u001b[39m \u001b[0m\u001b[33mhref\u001b[0m\u001b[39m=\u001b[0m\u001b[32m\"/virtual/2022/poster/16289\"\u001b[0m\u001b[39m>The Importance of Non-Markovianity in Maximum State \u001b[0m\n",
       "\u001b[39mEntropy Exploration<\u001b[0m\u001b[35m/\u001b[0m\u001b[95ma\u001b[0m\u001b[39m>\u001b[0m\n",
       "\u001b[39m<\u001b[0m\u001b[35m/\u001b[0m\u001b[95mdiv\u001b[0m\u001b[39m>\u001b[0m\n",
       "\u001b[39m<div \u001b[0m\u001b[33mclass\u001b[0m\u001b[39m=\u001b[0m\u001b[32m\"type_display_name_minus_type\"\u001b[0m\u001b[39m><\u001b[0m\u001b[35m/\u001b[0m\u001b[95mdiv\u001b[0m\u001b[39m>\u001b[0m\n",
       "\u001b[39m<div \u001b[0m\u001b[33mclass\u001b[0m\u001b[39m=\u001b[0m\u001b[32m\"author\u001b[0m\u001b[32m-str\"\u001b[0m\u001b[39m>Mirco Mutti · Riccardo De Santi · Marcello Restelli<\u001b[0m\u001b[35m/\u001b[0m\u001b[95mdiv\u001b[0m\u001b[39m>\u001b[0m\n",
       "\u001b[39m<div \u001b[0m\u001b[33mclass\u001b[0m\u001b[39m=\u001b[0m\u001b[32m\"author\u001b[0m\u001b[32m-str higher\"\u001b[0m\u001b[39m><\u001b[0m\u001b[35m/\u001b[0m\u001b[95mdiv\u001b[0m\u001b[39m>\u001b[0m\n",
       "\u001b[39m<div \u001b[0m\u001b[33mclass\u001b[0m\u001b[39m=\u001b[0m\u001b[32m\"text\u001b[0m\u001b[32m-muted touchup-date-div\"\u001b[0m\u001b[39m \u001b[0m\u001b[33mid\u001b[0m\u001b[39m=\u001b[0m\u001b[32m\"touchup\u001b[0m\u001b[32m-date-event-16289\"\u001b[0m\u001b[39m><\u001b[0m\u001b[35m/\u001b[0m\u001b[95mdiv\u001b[0m\u001b[39m>\u001b[0m\n",
       "\u001b[39m<p \u001b[0m\u001b[33mstyle\u001b[0m\u001b[39m=\u001b[0m\u001b[32m\"font\u001b[0m\u001b[32m-size:.9em;\"\u001b[0m\u001b[39m>\u001b[0m\u001b[1;39m[\u001b[0m\u001b[39m Hall E \u001b[0m\u001b[1;39m]\u001b[0m\u001b[39m<\u001b[0m\u001b[35m/\u001b[0m\u001b[95mp\u001b[0m\u001b[39m>\u001b[0m\n",
       "\u001b[39m<img \u001b[0m\u001b[33malt\u001b[0m\u001b[39m=\u001b[0m\u001b[32m\"thumbnail\"\u001b[0m\u001b[39m \u001b[0m\u001b[33mclass\u001b[0m\u001b[39m=\u001b[0m\u001b[32m\"social\u001b[0m\u001b[32m-img-thumb\"\u001b[0m\u001b[39m \u001b[0m\n",
       "\u001b[33msrc\u001b[0m\u001b[39m=\u001b[0m\u001b[32m\"/media/PosterPDFs/ICML%202022/d3630410c51e60941a9001a46871070e-thumb.png?\u001b[0m\u001b[32mt\u001b[0m\u001b[32m=\u001b[0m\u001b[32m1657525867\u001b[0m\u001b[32m.0852268\"\u001b[0m\u001b[39m>\u001b[0m\n",
       "\u001b[39m<div \u001b[0m\u001b[33mclass\u001b[0m\u001b[39m=\u001b[0m\u001b[32m\"abstract\u001b[0m\u001b[32m-section\"\u001b[0m\u001b[39m>\u001b[0m\n",
       "\u001b[39m<div>\u001b[0m\n",
       "\u001b[39m<a aria-\u001b[0m\u001b[33mcontrols\u001b[0m\u001b[39m=\u001b[0m\u001b[32m\"collapse\u001b[0m\u001b[32m-event-abstract-16289\"\u001b[0m\u001b[39m aria-\u001b[0m\u001b[33mexpanded\u001b[0m\u001b[39m=\u001b[0m\u001b[32m\"false\"\u001b[0m\u001b[39m \u001b[0m\u001b[33mclass\u001b[0m\u001b[39m=\u001b[0m\u001b[32m\"abstract\u001b[0m\u001b[32m-link\"\u001b[0m\u001b[39m data-\u001b[0m\u001b[33mtoggle\u001b[0m\u001b[39m=\u001b[0m\u001b[32m\"collapse\"\u001b[0m\n",
       "\u001b[33mhref\u001b[0m\u001b[39m=\u001b[0m\u001b[32m\"#collapse-event-abstract-16289\"\u001b[0m\u001b[39m \u001b[0m\u001b[33mid\u001b[0m\u001b[39m=\u001b[0m\u001b[32m\"abstract\u001b[0m\u001b[32m-link-16289\"\u001b[0m\u001b[39m \u001b[0m\u001b[33mrole\u001b[0m\u001b[39m=\u001b[0m\u001b[32m\"button\"\u001b[0m\u001b[39m>\u001b[0m\n",
       "\u001b[39m                Abstract <i \u001b[0m\u001b[33mclass\u001b[0m\u001b[39m=\u001b[0m\u001b[32m\"fas\u001b[0m\u001b[32m fa-caret-right\"\u001b[0m\u001b[39m \u001b[0m\u001b[33mid\u001b[0m\u001b[39m=\u001b[0m\u001b[32m\"caret\u001b[0m\u001b[32m-16289\"\u001b[0m\u001b[39m><\u001b[0m\u001b[35m/\u001b[0m\u001b[95mi\u001b[0m\u001b[39m>\u001b[0m\n",
       "\u001b[39m<\u001b[0m\u001b[35m/\u001b[0m\u001b[95ma\u001b[0m\u001b[39m>\u001b[0m\n",
       "\u001b[39m<\u001b[0m\u001b[35m/\u001b[0m\u001b[95mdiv\u001b[0m\u001b[39m>\u001b[0m\n",
       "\u001b[39m<\u001b[0m\u001b[35m/\u001b[0m\u001b[95mdiv\u001b[0m\u001b[39m>\u001b[0m\n",
       "\u001b[39m<div \u001b[0m\u001b[33mclass\u001b[0m\u001b[39m=\u001b[0m\u001b[32m\"collapse\"\u001b[0m\u001b[39m \u001b[0m\u001b[33mid\u001b[0m\u001b[39m=\u001b[0m\u001b[32m\"collapse\u001b[0m\u001b[32m-event-abstract-16289\"\u001b[0m\u001b[39m>\u001b[0m\n",
       "\u001b[39m<div \u001b[0m\u001b[33mclass\u001b[0m\u001b[39m=\u001b[0m\u001b[32m\"abstract\u001b[0m\u001b[32m-display\"\u001b[0m\u001b[39m>\u001b[0m\n",
       "\u001b[39m<p>In the maximum state entropy exploration framework, an agent interacts with a reward-free environment to learn a\u001b[0m\n",
       "\u001b[39mpolicy that maximizes the entropy of the expected state visitations it is inducing. Hazan et al. \u001b[0m\u001b[1;39m(\u001b[0m\u001b[1;36m2019\u001b[0m\u001b[1;39m)\u001b[0m\u001b[39m noted that \u001b[0m\n",
       "\u001b[39mthe class of Markovian stochastic policies is sufficient for the maximum state entropy objective, and exploiting \u001b[0m\n",
       "\u001b[39mnon-Markovianity is generally considered pointless in this setting. In this paper, we argue that non-Markovianity \u001b[0m\n",
       "\u001b[39mis instead paramount for maximum state entropy exploration in a finite-sample regime. Especially, we recast the \u001b[0m\n",
       "\u001b[39mobjective to target the expected entropy of the induced state visitations in a single trial. Then, we show that the\u001b[0m\n",
       "\u001b[39mclass of non-Markovian deterministic policies is sufficient for the introduced objective, while Markovian policies \u001b[0m\n",
       "\u001b[39msuffer non-zero regret in general. However, we prove that the problem of finding an optimal non-Markovian policy is\u001b[0m\n",
       "\u001b[39mNP-hard. Despite this negative result, we discuss avenues to address the problem in a tractable way and how \u001b[0m\n",
       "\u001b[39mnon-Markovian exploration could benefit the sample efficiency of online reinforcement learning in future works.<\u001b[0m\u001b[35m/\u001b[0m\u001b[95mp\u001b[0m\u001b[39m>\u001b[0m\n",
       "\u001b[39m<\u001b[0m\u001b[35m/\u001b[0m\u001b[95mdiv\u001b[0m\u001b[39m>\u001b[0m\n",
       "\u001b[39m<\u001b[0m\u001b[35m/\u001b[0m\u001b[95mdiv\u001b[0m\u001b[39m>\u001b[0m\n",
       "\u001b[39m<\u001b[0m\u001b[35m/\u001b[0m\u001b[95mimg\u001b[0m\u001b[39m><\u001b[0m\u001b[35m/\u001b[0m\u001b[95mdiv\u001b[0m\u001b[1m>\u001b[0m\n"
      ]
     },
     "metadata": {},
     "output_type": "display_data"
    }
   ],
   "source": [
    "rich.print(section_blocks['display_card'][1])\n"
   ]
  },
  {
   "cell_type": "markdown",
   "metadata": {},
   "source": [
    "### NIPS"
   ]
  },
  {
   "cell_type": "code",
   "execution_count": 11,
   "metadata": {},
   "outputs": [
    {
     "name": "stderr",
     "output_type": "stream",
     "text": [
      "  0%|          | 0/24 [00:00<?, ?it/s]"
     ]
    },
    {
     "data": {
      "text/html": [
       "<pre style=\"white-space:pre;overflow-x:auto;line-height:normal;font-family:Menlo,'DejaVu Sans Mono',consolas,'Courier New',monospace\">Failed to retrieve data for year <span style=\"color: #008080; text-decoration-color: #008080; font-weight: bold\">2000</span>\n",
       "</pre>\n"
      ],
      "text/plain": [
       "Failed to retrieve data for year \u001b[1;36m2000\u001b[0m\n"
      ]
     },
     "metadata": {},
     "output_type": "display_data"
    },
    {
     "name": "stderr",
     "output_type": "stream",
     "text": [
      "  4%|▍         | 1/24 [00:00<00:15,  1.45it/s]"
     ]
    },
    {
     "data": {
      "text/html": [
       "<pre style=\"white-space:pre;overflow-x:auto;line-height:normal;font-family:Menlo,'DejaVu Sans Mono',consolas,'Courier New',monospace\">Failed to retrieve data for year <span style=\"color: #008080; text-decoration-color: #008080; font-weight: bold\">2001</span>\n",
       "</pre>\n"
      ],
      "text/plain": [
       "Failed to retrieve data for year \u001b[1;36m2001\u001b[0m\n"
      ]
     },
     "metadata": {},
     "output_type": "display_data"
    },
    {
     "name": "stderr",
     "output_type": "stream",
     "text": [
      "  8%|▊         | 2/24 [00:01<00:18,  1.17it/s]"
     ]
    },
    {
     "data": {
      "text/html": [
       "<pre style=\"white-space:pre;overflow-x:auto;line-height:normal;font-family:Menlo,'DejaVu Sans Mono',consolas,'Courier New',monospace\">Failed to retrieve data for year <span style=\"color: #008080; text-decoration-color: #008080; font-weight: bold\">2002</span>\n",
       "</pre>\n"
      ],
      "text/plain": [
       "Failed to retrieve data for year \u001b[1;36m2002\u001b[0m\n"
      ]
     },
     "metadata": {},
     "output_type": "display_data"
    },
    {
     "name": "stderr",
     "output_type": "stream",
     "text": [
      " 12%|█▎        | 3/24 [00:02<00:13,  1.59it/s]"
     ]
    },
    {
     "data": {
      "text/html": [
       "<pre style=\"white-space:pre;overflow-x:auto;line-height:normal;font-family:Menlo,'DejaVu Sans Mono',consolas,'Courier New',monospace\">Failed to retrieve data for year <span style=\"color: #008080; text-decoration-color: #008080; font-weight: bold\">2003</span>\n",
       "</pre>\n"
      ],
      "text/plain": [
       "Failed to retrieve data for year \u001b[1;36m2003\u001b[0m\n"
      ]
     },
     "metadata": {},
     "output_type": "display_data"
    },
    {
     "name": "stderr",
     "output_type": "stream",
     "text": [
      " 17%|█▋        | 4/24 [00:02<00:10,  1.91it/s]"
     ]
    },
    {
     "data": {
      "text/html": [
       "<pre style=\"white-space:pre;overflow-x:auto;line-height:normal;font-family:Menlo,'DejaVu Sans Mono',consolas,'Courier New',monospace\">Failed to retrieve data for year <span style=\"color: #008080; text-decoration-color: #008080; font-weight: bold\">2004</span>\n",
       "</pre>\n"
      ],
      "text/plain": [
       "Failed to retrieve data for year \u001b[1;36m2004\u001b[0m\n"
      ]
     },
     "metadata": {},
     "output_type": "display_data"
    },
    {
     "name": "stderr",
     "output_type": "stream",
     "text": [
      " 21%|██        | 5/24 [00:02<00:08,  2.15it/s]"
     ]
    },
    {
     "data": {
      "text/html": [
       "<pre style=\"white-space:pre;overflow-x:auto;line-height:normal;font-family:Menlo,'DejaVu Sans Mono',consolas,'Courier New',monospace\">Failed to retrieve data for year <span style=\"color: #008080; text-decoration-color: #008080; font-weight: bold\">2005</span>\n",
       "</pre>\n"
      ],
      "text/plain": [
       "Failed to retrieve data for year \u001b[1;36m2005\u001b[0m\n"
      ]
     },
     "metadata": {},
     "output_type": "display_data"
    },
    {
     "name": "stderr",
     "output_type": "stream",
     "text": [
      "100%|██████████| 24/24 [00:15<00:00,  1.55it/s]\n"
     ]
    }
   ],
   "source": [
    "award_paper_by_year = {}\n",
    "for year in tqdm(range(2000, 2024)):\n",
    "    if year >= 2019:\n",
    "        url = f\"https://nips.cc/virtual/{year}/awards_detail\"\n",
    "        response = requests.get(url)\n",
    "        \n",
    "        if response.status_code != 200:\n",
    "            print(f\"Failed to retrieve data for year {year}\")\n",
    "            continue\n",
    "        \n",
    "        response.raise_for_status() \n",
    "        html_content = response.text\n",
    "\n",
    "        soup = BeautifulSoup(html_content, 'html.parser')\n",
    "\n",
    "        paper_rows = soup.find_all('tr')\n",
    "\n",
    "        papers_data = []\n",
    "\n",
    "        for row in paper_rows:\n",
    "            award_div = row.find('div')\n",
    "            if award_div:\n",
    "                award = award_div.text.strip()\n",
    "                paper_section = row.find('a', class_='small-title')\n",
    "                if paper_section:\n",
    "                    paper_title = paper_section.text.strip()\n",
    "                    link = paper_section.get('href', None)\n",
    "                    \n",
    "                    papers_data.append({\n",
    "                        'title': paper_title,\n",
    "                        'venue': \"NeurIPS\",\n",
    "                        'year': year,\n",
    "                        'award': award,\n",
    "                        'link': None\n",
    "                    })\n",
    "                else:\n",
    "                    print(f\"No Best Paper Awards section found for year {year}\")\n",
    "        award_paper_by_year[year] = papers_data\n",
    "    elif year == 2018:\n",
    "        url = f\"https://nips.cc/Conferences/{year}/Awards\"\n",
    "        response = requests.get(url)\n",
    "\n",
    "        if response.status_code != 200:\n",
    "            print(f\"Failed to retrieve data for year {year}\")\n",
    "            continue\n",
    "\n",
    "        html_content = response.text\n",
    "        soup = BeautifulSoup(html_content, 'html.parser')\n",
    "\n",
    "        papers_data = []\n",
    "        best_paper_section = soup.find('h3', string='Best Papers')\n",
    "\n",
    "        if best_paper_section:\n",
    "            award_info = best_paper_section.text.strip()\n",
    "            paper_paragraph = best_paper_section.find_next('p')\n",
    "            \n",
    "            if paper_paragraph:\n",
    "                titles = paper_paragraph.find_all('em')\n",
    "                \n",
    "                for title in titles:\n",
    "                    paper_title = title.text.strip()\n",
    "                    \n",
    "                    papers_data.append({\n",
    "                        'title': paper_title,\n",
    "                        'venue': \"NeurIPS\",\n",
    "                        'year': year,\n",
    "                        'award': award_info,\n",
    "                        'link': None\n",
    "                    })\n",
    "            \n",
    "            award_paper_by_year[year] = papers_data\n",
    "        else:\n",
    "            print(f\"No Best Papers section found for year {year}\")\n",
    "    elif year == 2017:\n",
    "\n",
    "        url = f\"https://nips.cc/Conferences/{year}/Awards\"\n",
    "        response = requests.get(url)\n",
    "\n",
    "        if response.status_code != 200:\n",
    "            print(f\"Failed to retrieve data for year {year}\")\n",
    "            continue\n",
    "\n",
    "        html_content = response.text\n",
    "        soup = BeautifulSoup(html_content, 'html.parser')\n",
    "\n",
    "        papers_data = []\n",
    "        best_paper_section = soup.find('h4', string=lambda text: text and 'Best paper awards')\n",
    "        # print(best_paper_section)\n",
    "        if best_paper_section:\n",
    "            \n",
    "            award_info = best_paper_section.text.strip()[:-1]\n",
    "            # print(award_info)\n",
    "            paper_list = best_paper_section.find_next('ul')\n",
    "            \n",
    "            if paper_list:\n",
    "                for paper_item in paper_list.find_all('li'):\n",
    "                    paper_link = paper_item.find('a')\n",
    "                    if paper_link:\n",
    "                        paper_title = paper_link.find('em').text.strip() if paper_link.find('em') else ''\n",
    "                        \n",
    "                        if paper_title:\n",
    "                            papers_data.append({\n",
    "                                'title': paper_title,\n",
    "                                'venue': \"NeurIPS\",\n",
    "                                'year': year,\n",
    "                                'award': award_info,\n",
    "                                'link': None\n",
    "                            })\n",
    "            \n",
    "            award_paper_by_year[year] = papers_data\n",
    "        else:\n",
    "            print(f\"No Best Paper Awards section found for year {year}\")\n",
    "    elif year >= 2015 and year <= 2016:\n",
    "        url = f\"https://nips.cc/Conferences/{year}/Awards\"\n",
    "        response = requests.get(url)\n",
    "\n",
    "        if response.status_code != 200:\n",
    "            print(f\"Failed to retrieve data for year {year}\")\n",
    "            continue\n",
    "\n",
    "        html_content = response.text\n",
    "        soup = BeautifulSoup(html_content, 'html.parser')\n",
    "\n",
    "        papers_data = []\n",
    "        best_paper_section = soup.find('h3', string=lambda text: text and 'Best paper awards')\n",
    "\n",
    "        if best_paper_section:\n",
    "            award_paragraphs = best_paper_section.find_next_siblings('p')\n",
    "            \n",
    "            for paragraph in award_paragraphs:\n",
    "                award_type = paragraph.find('strong')\n",
    "                if award_type:\n",
    "                    award_info = award_type.text.strip()\n",
    "                    \n",
    "                title_elem = paragraph.find('em')\n",
    "                if title_elem:\n",
    "                    paper_title = title_elem.text.strip()\n",
    "                    \n",
    "                    papers_data.append({\n",
    "                        'title': paper_title,\n",
    "                        'venue': \"NeurIPS\",\n",
    "                        'year': year,\n",
    "                        'award': award_info,\n",
    "                        'link': None\n",
    "                    })\n",
    "\n",
    "            award_paper_by_year[year] = papers_data\n",
    "        else:\n",
    "            print(f\"No Best Paper Awards section found for year {year}\")\n",
    "    elif year == 2014:\n",
    "        url = f\"https://nips.cc/Conferences/{year}/Awards\"\n",
    "        response = requests.get(url)\n",
    "\n",
    "        if response.status_code != 200:\n",
    "            print(f\"Failed to retrieve data for year {year}\")\n",
    "            continue\n",
    "\n",
    "        html_content = response.text\n",
    "        soup = BeautifulSoup(html_content, 'html.parser')\n",
    "\n",
    "        papers_data = []\n",
    "        awards_container = soup.find('div', class_='container')\n",
    "\n",
    "        if awards_container:\n",
    "            award_sections = awards_container.find_all(['h3', 'a'], class_='btn btn-primary')\n",
    "            \n",
    "            current_award = \"Best Paper Award\"\n",
    "            for element in award_sections:\n",
    "                if element.name == 'h3':\n",
    "                    current_award = element.text.strip()\n",
    "                elif element.name == 'a' and element.get('class') == ['btn', 'btn-primary']:\n",
    "                    paper_title = element.text.strip().rstrip('»').strip()\n",
    "                    \n",
    "                    papers_data.append({\n",
    "                        'title': paper_title,\n",
    "                        'venue': \"NeurIPS\",\n",
    "                        'year': year,\n",
    "                        'award': current_award,\n",
    "                        'link': None\n",
    "                    })\n",
    "\n",
    "            award_paper_by_year[year] = papers_data\n",
    "        else:\n",
    "            print(f\"No Awards container found for year {year}\")\n",
    "            \n",
    "    elif year >= 2012 and year <= 2013:\n",
    "\n",
    "        url = f\"https://nips.cc/Conferences/{year}/Awards\"\n",
    "        response = requests.get(url)\n",
    "\n",
    "        if response.status_code != 200:\n",
    "            print(f\"Failed to retrieve data for year {year}\")\n",
    "            continue\n",
    "\n",
    "        html_content = response.text\n",
    "        soup = BeautifulSoup(html_content, 'html.parser')\n",
    "\n",
    "        papers_data = []\n",
    "\n",
    "        pattern = re.compile(r'outstanding.*paper.*award?', re.IGNORECASE)\n",
    "        award_section = soup.find('h3', string=lambda text: text and pattern.search(text))\n",
    "\n",
    "        if award_section:\n",
    "            award_info = award_section.text.strip() \n",
    "            paper_paragraphs = award_section.find_next_siblings('p')\n",
    "            \n",
    "            for paragraph in paper_paragraphs:\n",
    "                paper_link = paragraph.find('a')\n",
    "                if paper_link:\n",
    "                    paper_title = paper_link.text.strip()\n",
    "                    \n",
    "                    papers_data.append({\n",
    "                        'title': paper_title,\n",
    "                        'venue': \"NeurIPS\",\n",
    "                        'year': year,\n",
    "                        'award': award_info,\n",
    "                        'link': None\n",
    "                    })\n",
    "\n",
    "            award_paper_by_year[year] = papers_data\n",
    "        else:\n",
    "            print(f\"No Outstanding Paper Awards section found for year {year}\")\n",
    "    elif year == 2011:\n",
    "\n",
    "        url = f\"https://nips.cc/Conferences/{year}/Awards\"\n",
    "        response = requests.get(url)\n",
    "\n",
    "        if response.status_code != 200:\n",
    "            print(f\"Failed to retrieve data for year {year}\")\n",
    "            continue\n",
    "\n",
    "        html_content = response.text\n",
    "        soup = BeautifulSoup(html_content, 'html.parser')\n",
    "\n",
    "        papers_data = []\n",
    "\n",
    "        pattern = re.compile(r'outstanding.*paper.*award?', re.IGNORECASE)\n",
    "        award_section = soup.find('h3', string=lambda text: text and pattern.search(text))\n",
    "\n",
    "        if award_section:\n",
    "            award_info = award_section.text.strip()\n",
    "            paper_paragraphs = award_section.find_next_siblings('p')\n",
    "            \n",
    "            for paragraph in paper_paragraphs:\n",
    "                if paragraph.find('strong') and paragraph.find('em'):\n",
    "                    paper_title = paragraph.find('em').text.strip()\n",
    "                    \n",
    "                    papers_data.append({\n",
    "                        'title': paper_title,\n",
    "                        'venue': \"NeurIPS\",\n",
    "                        'year': year,\n",
    "                        'award': award_info,\n",
    "                        'link': None\n",
    "                    })\n",
    "\n",
    "            award_paper_by_year[year] = papers_data\n",
    "        else:\n",
    "            print(f\"No Outstanding Student Paper Awards section found for year {year}\")\n",
    "    elif year <= 2010:\n",
    "        url = f\"https://nips.cc/Conferences/{year}/Awards\"\n",
    "        response = requests.get(url)\n",
    "\n",
    "        if response.status_code != 200:\n",
    "            print(f\"Failed to retrieve data for year {year}\")\n",
    "            continue\n",
    "\n",
    "        html_content = response.text\n",
    "        soup = BeautifulSoup(html_content, 'html.parser')\n",
    "\n",
    "        papers_data = []\n",
    "\n",
    "        pattern = re.compile(r'outstanding.*paper.*award?', re.IGNORECASE)\n",
    "        award_section = soup.find('h2', string=lambda text: text and pattern.search(text))\n",
    "\n",
    "        if award_section:\n",
    "            award_info = award_section.text.strip()\n",
    "            paper_paragraphs = award_section.find_next_siblings('p')\n",
    "            \n",
    "            for paragraph in paper_paragraphs:\n",
    "                if paragraph.find('strong') and paragraph.find('em'):\n",
    "                    paper_title = paragraph.find('em').text.strip()\n",
    "                    \n",
    "                    papers_data.append({\n",
    "                        'title': paper_title,\n",
    "                        'venue': \"NeurIPS\",\n",
    "                        'year': year,\n",
    "                        'award': award_info,\n",
    "                        'link': None\n",
    "                    })\n",
    "\n",
    "            award_paper_by_year[year] = papers_data\n",
    "        else:\n",
    "            print(f\"No Outstanding Student Paper Awards section found for year {year}\")"
   ]
  },
  {
   "cell_type": "code",
   "execution_count": 22,
   "metadata": {},
   "outputs": [],
   "source": [
    "paper_list = []\n",
    "sorted_years = sorted(award_paper_by_year.keys(), reverse=True) \n",
    "for year in sorted_years:\n",
    "    for paper in award_paper_by_year[year]:\n",
    "        paper_list.append(paper)\n"
   ]
  },
  {
   "cell_type": "code",
   "execution_count": 24,
   "metadata": {},
   "outputs": [],
   "source": [
    "unique_papers = {}\n",
    "for paper in paper_list:\n",
    "    key = (paper['title'], paper['year'])\n",
    "    if key not in unique_papers:\n",
    "        unique_papers[key] = paper\n",
    "\n",
    "paper_list = list(unique_papers.values())"
   ]
  },
  {
   "cell_type": "code",
   "execution_count": 25,
   "metadata": {},
   "outputs": [
    {
     "data": {
      "text/plain": [
       "88"
      ]
     },
     "execution_count": 25,
     "metadata": {},
     "output_type": "execute_result"
    }
   ],
   "source": [
    "len(paper_list)"
   ]
  },
  {
   "cell_type": "code",
   "execution_count": 26,
   "metadata": {},
   "outputs": [],
   "source": [
    "out_f = open('neurips_best_papers.json', 'w')\n",
    "json.dump(paper_list, out_f, indent=2)\n",
    "out_f.flush()"
   ]
  },
  {
   "cell_type": "markdown",
   "metadata": {},
   "source": [
    "### True Run"
   ]
  },
  {
   "cell_type": "code",
   "execution_count": 45,
   "metadata": {},
   "outputs": [
    {
     "name": "stdout",
     "output_type": "stream",
     "text": [
      "Failed to retrieve data for year 2020\n"
     ]
    }
   ],
   "source": [
    "award_paper_by_year = {}\n",
    "for year in range(2000, 2024):\n",
    "    if year >= 2021 and year <= 2023:\n",
    "        url = f\"https://iclr.cc/virtual/{year}/awards_detail\"\n",
    "        response = requests.get(url)\n",
    "        \n",
    "        if response.status_code != 200:\n",
    "            print(f\"Failed to retrieve data for year {year}\")\n",
    "            continue\n",
    "        \n",
    "        response.raise_for_status() \n",
    "        html_content = response.text\n",
    "\n",
    "        soup = BeautifulSoup(html_content, 'html.parser')\n",
    "\n",
    "        paper_rows = soup.find_all('tr')\n",
    "\n",
    "        papers_data = []\n",
    "\n",
    "        for row in paper_rows:\n",
    "            award_div = row.find('div')\n",
    "            if award_div:\n",
    "                award = award_div.text.strip()\n",
    "                paper_section = row.find('a', class_='small-title')\n",
    "                if paper_section:\n",
    "                    paper_title = paper_section.text.strip()\n",
    "                    link = paper_section.get('href', None)\n",
    "                    \n",
    "                    papers_data.append({\n",
    "                        'title': paper_title,\n",
    "                        'venue': \"ICLR\",\n",
    "                        'year': year,\n",
    "                        'award': award,\n",
    "                        'link': None\n",
    "                    })\n",
    "        award_paper_by_year[year] = papers_data\n",
    "    elif year >= 2019 and year <= 2020:\n",
    "        url = f\"https://iclr.cc/Conferences/{year}/Awards\"\n",
    "        response = requests.get(url)\n",
    "        \n",
    "        if response.status_code != 200:\n",
    "            print(f\"Failed to retrieve data for year {year}\")\n",
    "            continue\n",
    "\n",
    "        html_content = response.text\n",
    "        soup = BeautifulSoup(html_content, 'html.parser')\n",
    "\n",
    "        papers_data = []\n",
    "        best_paper_section = soup.find('h3', string='Best Paper Awards')\n",
    "        if best_paper_section:\n",
    "            papers_data = []\n",
    "            \n",
    "            award_info = best_paper_section.text.strip()\n",
    "            \n",
    "            paper_paragraphs = best_paper_section.find_next_siblings('p')\n",
    "            \n",
    "            for para in paper_paragraphs:\n",
    "                paper_link = para.find('a')\n",
    "                if paper_link:\n",
    "                    paper_title = paper_link.text.strip()\n",
    "                    paper_url = \"https://iclr.cc\" + paper_link['href']\n",
    "                    \n",
    "                    # Extract authors (assuming they're in the next line after the link)\n",
    "                    authors_text = para.contents[-1].strip()\n",
    "                    authors = [author.strip() for author in authors_text.split('·')]\n",
    "                    \n",
    "                    papers_data.append({\n",
    "                        'title': paper_title,\n",
    "                        'venue': \"ICLR\",\n",
    "                        'year': year,\n",
    "                        'award': award_info,\n",
    "                        'link': paper_url\n",
    "                    })\n",
    "            \n",
    "            award_paper_by_year[year] = papers_data\n",
    "        else:\n",
    "            print(f\"No Best Paper Awards section found for year {year}\")\n",
    "        \n",
    "    elif year >= 2017 and year <= 2018:\n",
    "        url = f\"https://icml.cc/Conferences/{year}/Awards\"\n",
    "        response = requests.get(url)\n",
    "        \n",
    "        if response.status_code != 200:\n",
    "            print(f\"Failed to retrieve data for year {year}\")\n",
    "            continue\n",
    "\n",
    "        html_content = response.text\n",
    "        soup = BeautifulSoup(html_content, 'html.parser')\n",
    "\n",
    "        papers_data = []\n",
    "\n",
    "        award_categories = soup.find_all('h4')\n",
    "\n",
    "        for category in award_categories:\n",
    "            award_name = category.text.strip()\n",
    "            \n",
    "            paper_entries = category.find_all_next(['p', 'h4'])\n",
    "            \n",
    "            for entry in paper_entries:\n",
    "                if entry.name == 'h4':\n",
    "                    break\n",
    "                \n",
    "                strong_tag = entry.find('strong')\n",
    "                if strong_tag:\n",
    "                    paper_title = strong_tag.text.strip()\n",
    "                    \n",
    "                    papers_data.append({\n",
    "                        'title': paper_title,\n",
    "                        'venue': \"ICLR\",\n",
    "                        'year': year,\n",
    "                        'award': award_name,\n",
    "                        'link': None\n",
    "                    })\n",
    "\n",
    "        award_paper_by_year[year] = papers_data\n",
    "    elif year >= 2013 and year == 2016:\n",
    "        url = f\"https://iclr.cc/archive/www/doku.php%3Fid=iclr{year}:main.html\"\n",
    "        response = requests.get(url)\n",
    "\n",
    "        if response.status_code != 200:\n",
    "            print(f\"Failed to retrieve data for year {year}\")\n",
    "            continue\n",
    "\n",
    "        html_content = response.text\n",
    "        soup = BeautifulSoup(html_content, 'html.parser')\n",
    "\n",
    "        best_paper_section = soup.find('h3', id='best_paper_awards')\n",
    "\n",
    "        if best_paper_section:\n",
    "            award_info = best_paper_section.text.strip()\n",
    "            \n",
    "            best_papers_list = best_paper_section.find_next('ul')\n",
    "            \n",
    "            papers_data = []\n",
    "            \n",
    "            if best_papers_list:\n",
    "                for paper_item in best_papers_list.find_all('li'):\n",
    "                    paper_link = paper_item.find('a')\n",
    "                    if paper_link:\n",
    "                        paper_title = paper_link.text.strip()\n",
    "                        paper_url = paper_link['href']\n",
    "                        \n",
    "                        papers_data.append({\n",
    "                            'title': paper_title,\n",
    "                            'venue': \"ICLR\",\n",
    "                            'year': year,\n",
    "                            'award': award_info,\n",
    "                            'link': paper_url,\n",
    "                        })\n",
    "            \n",
    "            award_paper_by_year[year] = papers_data\n",
    "        else:\n",
    "            print(f\"No Best Paper Awards section found for year {year}\")\n"
   ]
  },
  {
   "cell_type": "code",
   "execution_count": 44,
   "metadata": {},
   "outputs": [
    {
     "data": {
      "text/plain": [
       "[{'title': 'Rethinking the Expressive Power of GNNs via Graph Biconnectivity',\n",
       "  'venue': 'ICLR',\n",
       "  'year': 2023,\n",
       "  'award': 'Outstanding Paper',\n",
       "  'link': '/virtual/2023/poster/12158'},\n",
       " {'title': 'Universal Few-shot Learning of Dense Prediction Tasks with Visual Token Matching',\n",
       "  'venue': 'ICLR',\n",
       "  'year': 2023,\n",
       "  'award': 'Outstanding Paper',\n",
       "  'link': '/virtual/2023/oral/12651'},\n",
       " {'title': 'Rethinking the Expressive Power of GNNs via Graph Biconnectivity',\n",
       "  'venue': 'ICLR',\n",
       "  'year': 2023,\n",
       "  'award': 'Outstanding Paper',\n",
       "  'link': '/virtual/2023/oral/12728'},\n",
       " {'title': 'DreamFusion: Text-to-3D using 2D Diffusion',\n",
       "  'venue': 'ICLR',\n",
       "  'year': 2023,\n",
       "  'award': 'Outstanding Paper',\n",
       "  'link': '/virtual/2023/oral/12607'},\n",
       " {'title': 'Emergence of Maps in the Memories of Blind Navigation Agents',\n",
       "  'venue': 'ICLR',\n",
       "  'year': 2023,\n",
       "  'award': 'Outstanding Paper',\n",
       "  'link': '/virtual/2023/poster/11108'},\n",
       " {'title': 'Universal Few-shot Learning of Dense Prediction Tasks with Visual Token Matching',\n",
       "  'venue': 'ICLR',\n",
       "  'year': 2023,\n",
       "  'award': 'Outstanding Paper',\n",
       "  'link': '/virtual/2023/poster/10974'},\n",
       " {'title': 'Emergence of Maps in the Memories of Blind Navigation Agents',\n",
       "  'venue': 'ICLR',\n",
       "  'year': 2023,\n",
       "  'award': 'Outstanding Paper',\n",
       "  'link': '/virtual/2023/oral/12560'},\n",
       " {'title': 'Conditional Antibody Design as 3D Equivariant Graph Translation',\n",
       "  'venue': 'ICLR',\n",
       "  'year': 2023,\n",
       "  'award': 'Honorable Mention',\n",
       "  'link': '/virtual/2023/oral/12683'},\n",
       " {'title': 'Towards Understanding Ensemble, Knowledge Distillation and Self-Distillation in Deep Learning',\n",
       "  'venue': 'ICLR',\n",
       "  'year': 2023,\n",
       "  'award': 'Honorable Mention',\n",
       "  'link': '/virtual/2023/poster/10860'},\n",
       " {'title': 'Mastering the Game of No-Press Diplomacy via Human-Regularized Reinforcement Learning and Planning',\n",
       "  'venue': 'ICLR',\n",
       "  'year': 2023,\n",
       "  'award': 'Honorable Mention',\n",
       "  'link': '/virtual/2023/poster/11320'},\n",
       " {'title': 'On the duality between contrastive and non-contrastive self-supervised learning',\n",
       "  'venue': 'ICLR',\n",
       "  'year': 2023,\n",
       "  'award': 'Honorable Mention',\n",
       "  'link': '/virtual/2023/poster/10958'},\n",
       " {'title': 'Towards Understanding Ensemble, Knowledge Distillation and Self-Distillation in Deep Learning',\n",
       "  'venue': 'ICLR',\n",
       "  'year': 2023,\n",
       "  'award': 'Honorable Mention',\n",
       "  'link': '/virtual/2023/oral/12664'},\n",
       " {'title': 'Conditional Antibody Design as 3D Equivariant Graph Translation',\n",
       "  'venue': 'ICLR',\n",
       "  'year': 2023,\n",
       "  'award': 'Honorable Mention',\n",
       "  'link': '/virtual/2023/poster/11821'},\n",
       " {'title': 'Disentanglement with Biological Constraints: A Theory of Functional Cell Types',\n",
       "  'venue': 'ICLR',\n",
       "  'year': 2023,\n",
       "  'award': 'Honorable Mention',\n",
       "  'link': '/virtual/2023/poster/10981'},\n",
       " {'title': 'On the duality between contrastive and non-contrastive self-supervised learning',\n",
       "  'venue': 'ICLR',\n",
       "  'year': 2023,\n",
       "  'award': 'Honorable Mention',\n",
       "  'link': '/virtual/2023/oral/12556'},\n",
       " {'title': 'Disentanglement with Biological Constraints: A Theory of Functional Cell Types',\n",
       "  'venue': 'ICLR',\n",
       "  'year': 2023,\n",
       "  'award': 'Honorable Mention',\n",
       "  'link': '/virtual/2023/oral/12755'}]"
      ]
     },
     "execution_count": 44,
     "metadata": {},
     "output_type": "execute_result"
    }
   ],
   "source": [
    "award_paper_by_year[2023]"
   ]
  },
  {
   "cell_type": "code",
   "execution_count": 51,
   "metadata": {},
   "outputs": [],
   "source": [
    "paper_list = []\n",
    "sorted_years = sorted(award_paper_by_year.keys(), reverse=True) \n",
    "for year in sorted_years:\n",
    "    for paper in award_paper_by_year[year]:\n",
    "        paper_list.append(paper)"
   ]
  },
  {
   "cell_type": "code",
   "execution_count": 54,
   "metadata": {},
   "outputs": [],
   "source": [
    "unique_papers = {}\n",
    "for paper in paper_list:\n",
    "    key = (paper['title'], paper['year'])\n",
    "    if key not in unique_papers:\n",
    "        unique_papers[key] = paper\n",
    "\n",
    "paper_list = list(unique_papers.values())"
   ]
  },
  {
   "cell_type": "code",
   "execution_count": 55,
   "metadata": {},
   "outputs": [
    {
     "data": {
      "text/plain": [
       "36"
      ]
     },
     "execution_count": 55,
     "metadata": {},
     "output_type": "execute_result"
    }
   ],
   "source": [
    "len(paper_list)"
   ]
  },
  {
   "cell_type": "code",
   "execution_count": 56,
   "metadata": {},
   "outputs": [],
   "source": [
    "out_f = open('iclr_best_papers.json', 'w')\n",
    "json.dump(paper_list, out_f, indent=2)\n",
    "out_f.flush()"
   ]
  }
 ],
 "metadata": {
  "kernelspec": {
   "display_name": "llm_persona",
   "language": "python",
   "name": "python3"
  },
  "language_info": {
   "codemirror_mode": {
    "name": "ipython",
    "version": 3
   },
   "file_extension": ".py",
   "mimetype": "text/x-python",
   "name": "python",
   "nbconvert_exporter": "python",
   "pygments_lexer": "ipython3",
   "version": "3.11.9"
  }
 },
 "nbformat": 4,
 "nbformat_minor": 2
}
