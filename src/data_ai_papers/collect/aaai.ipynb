{
 "cells": [
  {
   "cell_type": "code",
   "execution_count": 1,
   "metadata": {},
   "outputs": [],
   "source": [
    "%load_ext autoreload\n",
    "%autoreload 2"
   ]
  },
  {
   "cell_type": "code",
   "execution_count": 1,
   "metadata": {},
   "outputs": [],
   "source": [
    "from bs4 import BeautifulSoup as bs\n",
    "import json"
   ]
  },
  {
   "cell_type": "code",
   "execution_count": 8,
   "metadata": {},
   "outputs": [],
   "source": [
    "html_content = open(\"AAAI Conference Paper Awards and Recognition - AAAI.html\", 'r').read()\n",
    "out_f = open(\"aaai_best_papers.json\", 'w')\n",
    "soup = bs(html_content, 'html.parser')\n",
    "\n",
    "# Find all the h3 tags which indicate the year\n",
    "years = soup.find_all('h3', class_='wp-block-heading')\n",
    "\n",
    "# Initialize the list to hold the data\n",
    "papers_data = []\n",
    "\n",
    "# Loop through each year\n",
    "for year_tag in years:\n",
    "    year = year_tag.text.strip()\n",
    "    next_siblings = year_tag.find_next_siblings()\n",
    "    \n",
    "    for next_sibling in next_siblings:\n",
    "        if next_sibling.name == 'h3':\n",
    "            break\n",
    "        if next_sibling.name == 'h4':\n",
    "            next_ps = next_sibling.find_next_siblings()\n",
    "            for next_p in next_ps:\n",
    "                if next_p.name == 'h4' or next_p.name == 'h3':\n",
    "                    break\n",
    "                if next_p.find('strong'):\n",
    "                    paper_title = next_p.find('strong').text.strip()\n",
    "                    papers_data.append({\n",
    "                        'title': paper_title,\n",
    "                        'venue': \"AAAI\",\n",
    "                        'year': year,\n",
    "                        'award': next_sibling.text.strip(),\n",
    "                        'link': None\n",
    "                    })\n",
    "\n",
    "# Convert the list to JSON\n",
    "json.dump(papers_data, out_f, indent=2)\n",
    "out_f.flush()"
   ]
  },
  {
   "cell_type": "code",
   "execution_count": 1,
   "metadata": {},
   "outputs": [],
   "source": [
    "import json\n",
    "in_f = open(\"aaai_best_papers.json\", 'r')\n",
    "out_f = open(\"../json/aaai_best_papers.json\", 'w')\n",
    "papers_data = []\n",
    "for paper in json.load(in_f):\n",
    "    if int(paper['year']) >= 2000:\n",
    "        papers_data.append(paper)\n",
    "json.dump(papers_data, out_f, indent=2)\n",
    "out_f.flush()"
   ]
  }
 ],
 "metadata": {
  "kernelspec": {
   "display_name": "Python 3",
   "language": "python",
   "name": "python3"
  },
  "language_info": {
   "codemirror_mode": {
    "name": "ipython",
    "version": 3
   },
   "file_extension": ".py",
   "mimetype": "text/x-python",
   "name": "python",
   "nbconvert_exporter": "python",
   "pygments_lexer": "ipython3",
   "version": "3.11.9"
  }
 },
 "nbformat": 4,
 "nbformat_minor": 2
}
