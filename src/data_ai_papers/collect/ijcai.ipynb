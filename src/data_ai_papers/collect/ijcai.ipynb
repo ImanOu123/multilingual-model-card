{
 "cells": [
  {
   "cell_type": "code",
   "execution_count": 1,
   "metadata": {},
   "outputs": [],
   "source": [
    "%load_ext autoreload\n",
    "%autoreload 2"
   ]
  },
  {
   "cell_type": "code",
   "execution_count": 2,
   "metadata": {},
   "outputs": [],
   "source": [
    "from bs4 import BeautifulSoup as bs\n",
    "import json"
   ]
  },
  {
   "cell_type": "markdown",
   "metadata": {},
   "source": [
    "crawl jeff huang website"
   ]
  },
  {
   "cell_type": "code",
   "execution_count": null,
   "metadata": {},
   "outputs": [],
   "source": [
    "html_content = open(\"Best Paper Awards in Computer Science.html\", 'r').read()\n",
    "out_f = open(\"best_papers_jeffhuang.json\", 'w')\n",
    "soup = bs(html_content, 'html.parser')\n",
    "\n",
    "papers_data = []\n",
    "\n",
    "tables = soup.find_all(\"table\", class_=\"table table-bordered\")\n",
    "for table in tables:\n",
    "    year = table.get('id')\n",
    "    venue = None\n",
    "    tbody_tag = table.find('tbody')\n",
    "    for tr_tag in tbody_tag.find_all(\"tr\"):\n",
    "        th_tag = tr_tag.find('th')\n",
    "        tmp_th = None\n",
    "        if th_tag:\n",
    "            tmp_th = th_tag.text.strip()\n",
    "            venue = tmp_th\n",
    "        \n",
    "        td_tags = tr_tag.find_all('td')\n",
    "        tmp_td = []\n",
    "        for td_tag in td_tags:\n",
    "            tmp_td.append(td_tag.text.strip())\n",
    "        \n",
    "        papers_data.append({\n",
    "            \"title\": tmp_td[0],\n",
    "            \"venue\": venue,\n",
    "            \"year\": year,\n",
    "            \"award\": \"\",\n",
    "            \"link\": None\n",
    "        })\n",
    "# Convert the list to JSON\n",
    "json.dump(papers_data, out_f, indent=2)\n",
    "out_f.flush()"
   ]
  },
  {
   "cell_type": "markdown",
   "metadata": {},
   "source": [
    "select all ijcai papers and save to ijcai_best_papers.json"
   ]
  },
  {
   "cell_type": "code",
   "execution_count": 4,
   "metadata": {},
   "outputs": [],
   "source": [
    "import json\n",
    "in_f = open(\"best_papers_jeffhuang.json\", 'r')\n",
    "out_f = open(\"../json/ijcai_best_papers.json\", 'w')\n",
    "papers = json.load(in_f)\n",
    "ijcai_papers = []\n",
    "for paper in papers:\n",
    "    if 'IJCAI' in paper['venue']:\n",
    "        ijcai_papers.append(paper)\n",
    "json.dump(ijcai_papers, out_f, indent=2)\n",
    "out_f.flush()"
   ]
  }
 ],
 "metadata": {
  "kernelspec": {
   "display_name": "new",
   "language": "python",
   "name": "new"
  },
  "language_info": {
   "codemirror_mode": {
    "name": "ipython",
    "version": 3
   },
   "file_extension": ".py",
   "mimetype": "text/x-python",
   "name": "python",
   "nbconvert_exporter": "python",
   "pygments_lexer": "ipython3",
   "version": "3.11.5"
  }
 },
 "nbformat": 4,
 "nbformat_minor": 2
}
