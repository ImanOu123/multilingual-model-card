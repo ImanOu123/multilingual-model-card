{
 "cells": [
  {
   "cell_type": "code",
   "execution_count": 1,
   "metadata": {},
   "outputs": [],
   "source": [
    "import json"
   ]
  },
  {
   "cell_type": "code",
   "execution_count": 3,
   "metadata": {},
   "outputs": [],
   "source": [
    "in_f = open(\"best_papers_jeffhuang.json\", 'r')\n",
    "papers = json.load(in_f)\n",
    "conference_list = [\"ICML\", \"NeurIPS\", \"KDD\", \"SIGIR\", \"WWW\"]\n",
    "for conference in conference_list:\n",
    "    \n",
    "    out_f = open(f\"../json/{conference.lower()}_best_papers.json\", 'w')\n",
    "    conference_papers = []\n",
    "    for paper in papers:\n",
    "        if conference in paper['venue'] and int(paper['year']) >= 2000:\n",
    "            paper['venue'] = conference\n",
    "            paper['award'] = \"Best Paper Award\"\n",
    "            conference_papers.append(paper)\n",
    "    json.dump(conference_papers, out_f, indent=2)\n",
    "    out_f.flush()"
   ]
  },
  {
   "cell_type": "markdown",
   "metadata": {},
   "source": []
  }
 ],
 "metadata": {
  "kernelspec": {
   "display_name": "llm_persona",
   "language": "python",
   "name": "python3"
  },
  "language_info": {
   "codemirror_mode": {
    "name": "ipython",
    "version": 3
   },
   "file_extension": ".py",
   "mimetype": "text/x-python",
   "name": "python",
   "nbconvert_exporter": "python",
   "pygments_lexer": "ipython3",
   "version": "3.1.undefined"
  }
 },
 "nbformat": 4,
 "nbformat_minor": 2
}
