{
 "cells": [
  {
   "cell_type": "code",
   "execution_count": 1,
   "metadata": {},
   "outputs": [],
   "source": [
    "%load_ext autoreload\n",
    "%autoreload 2"
   ]
  },
  {
   "cell_type": "code",
   "execution_count": 2,
   "metadata": {},
   "outputs": [],
   "source": [
    "from bs4 import BeautifulSoup\n",
    "import json\n",
    "from rich import print\n",
    "import requests\n",
    "from tqdm import tqdm\n",
    "import re"
   ]
  },
  {
   "cell_type": "markdown",
   "metadata": {},
   "source": [
    "### Exploration"
   ]
  },
  {
   "cell_type": "code",
   "execution_count": 45,
   "metadata": {},
   "outputs": [],
   "source": [
    "def gain_section_block(soup):\n",
    "    section_block = {}\n",
    "    section_block['abstact'] = soup.find_all('div', class_='abstract-section')\n",
    "    section_block['display_card'] = soup.find_all('div', class_='displaycards touchup-date')\n",
    "    section_block['collapse'] = soup.find_all('div', class_='collapse')\n",
    "    \n",
    "    return section_block"
   ]
  },
  {
   "cell_type": "code",
   "execution_count": 46,
   "metadata": {},
   "outputs": [],
   "source": [
    "url = \"https://nips.cc/virtual/2022/awards_detail\"\n",
    "response = requests.get(url)\n",
    "response.raise_for_status()  # Raises an HTTPError for bad responses\n",
    "html_content = response.text\n",
    "soup = BeautifulSoup(html_content, 'html.parser')\n",
    "section_blocks = gain_section_block(soup)"
   ]
  },
  {
   "cell_type": "code",
   "execution_count": 51,
   "metadata": {},
   "outputs": [
    {
     "data": {
      "text/html": [
       "<pre style=\"white-space:pre;overflow-x:auto;line-height:normal;font-family:Menlo,'DejaVu Sans Mono',consolas,'Courier New',monospace\"><span style=\"font-weight: bold\">&lt;</span><span style=\"color: #ff00ff; text-decoration-color: #ff00ff; font-weight: bold\">div</span><span style=\"color: #000000; text-decoration-color: #000000\"> </span><span style=\"color: #808000; text-decoration-color: #808000\">class</span><span style=\"color: #000000; text-decoration-color: #000000\">=</span><span style=\"color: #008000; text-decoration-color: #008000\">\"displaycards touchup-date\"</span><span style=\"color: #000000; text-decoration-color: #000000\"> </span><span style=\"color: #808000; text-decoration-color: #808000\">id</span><span style=\"color: #000000; text-decoration-color: #000000\">=</span><span style=\"color: #008000; text-decoration-color: #008000\">\"event-16289\"</span><span style=\"color: #000000; text-decoration-color: #000000\">&gt;</span>\n",
       "<span style=\"color: #000000; text-decoration-color: #000000\">&lt;div </span><span style=\"color: #808000; text-decoration-color: #808000\">style</span><span style=\"color: #000000; text-decoration-color: #000000\">=</span><span style=\"color: #008000; text-decoration-color: #008000\">\"width:80%;margin:auto;\"</span><span style=\"color: #000000; text-decoration-color: #000000\">&gt;</span>\n",
       "<span style=\"color: #000000; text-decoration-color: #000000\">&lt;a </span><span style=\"color: #808000; text-decoration-color: #808000\">class</span><span style=\"color: #000000; text-decoration-color: #000000\">=</span><span style=\"color: #008000; text-decoration-color: #008000\">\"small-title\"</span><span style=\"color: #000000; text-decoration-color: #000000\"> </span><span style=\"color: #808000; text-decoration-color: #808000\">href</span><span style=\"color: #000000; text-decoration-color: #000000\">=</span><span style=\"color: #008000; text-decoration-color: #008000\">\"/virtual/2022/poster/16289\"</span><span style=\"color: #000000; text-decoration-color: #000000\">&gt;The Importance of Non-Markovianity in Maximum State </span>\n",
       "<span style=\"color: #000000; text-decoration-color: #000000\">Entropy Exploration&lt;</span><span style=\"color: #800080; text-decoration-color: #800080\">/</span><span style=\"color: #ff00ff; text-decoration-color: #ff00ff\">a</span><span style=\"color: #000000; text-decoration-color: #000000\">&gt;</span>\n",
       "<span style=\"color: #000000; text-decoration-color: #000000\">&lt;</span><span style=\"color: #800080; text-decoration-color: #800080\">/</span><span style=\"color: #ff00ff; text-decoration-color: #ff00ff\">div</span><span style=\"color: #000000; text-decoration-color: #000000\">&gt;</span>\n",
       "<span style=\"color: #000000; text-decoration-color: #000000\">&lt;div </span><span style=\"color: #808000; text-decoration-color: #808000\">class</span><span style=\"color: #000000; text-decoration-color: #000000\">=</span><span style=\"color: #008000; text-decoration-color: #008000\">\"type_display_name_minus_type\"</span><span style=\"color: #000000; text-decoration-color: #000000\">&gt;&lt;</span><span style=\"color: #800080; text-decoration-color: #800080\">/</span><span style=\"color: #ff00ff; text-decoration-color: #ff00ff\">div</span><span style=\"color: #000000; text-decoration-color: #000000\">&gt;</span>\n",
       "<span style=\"color: #000000; text-decoration-color: #000000\">&lt;div </span><span style=\"color: #808000; text-decoration-color: #808000\">class</span><span style=\"color: #000000; text-decoration-color: #000000\">=</span><span style=\"color: #008000; text-decoration-color: #008000\">\"author-str\"</span><span style=\"color: #000000; text-decoration-color: #000000\">&gt;Mirco Mutti · Riccardo De Santi · Marcello Restelli&lt;</span><span style=\"color: #800080; text-decoration-color: #800080\">/</span><span style=\"color: #ff00ff; text-decoration-color: #ff00ff\">div</span><span style=\"color: #000000; text-decoration-color: #000000\">&gt;</span>\n",
       "<span style=\"color: #000000; text-decoration-color: #000000\">&lt;div </span><span style=\"color: #808000; text-decoration-color: #808000\">class</span><span style=\"color: #000000; text-decoration-color: #000000\">=</span><span style=\"color: #008000; text-decoration-color: #008000\">\"author-str higher\"</span><span style=\"color: #000000; text-decoration-color: #000000\">&gt;&lt;</span><span style=\"color: #800080; text-decoration-color: #800080\">/</span><span style=\"color: #ff00ff; text-decoration-color: #ff00ff\">div</span><span style=\"color: #000000; text-decoration-color: #000000\">&gt;</span>\n",
       "<span style=\"color: #000000; text-decoration-color: #000000\">&lt;div </span><span style=\"color: #808000; text-decoration-color: #808000\">class</span><span style=\"color: #000000; text-decoration-color: #000000\">=</span><span style=\"color: #008000; text-decoration-color: #008000\">\"text-muted touchup-date-div\"</span><span style=\"color: #000000; text-decoration-color: #000000\"> </span><span style=\"color: #808000; text-decoration-color: #808000\">id</span><span style=\"color: #000000; text-decoration-color: #000000\">=</span><span style=\"color: #008000; text-decoration-color: #008000\">\"touchup-date-event-16289\"</span><span style=\"color: #000000; text-decoration-color: #000000\">&gt;&lt;</span><span style=\"color: #800080; text-decoration-color: #800080\">/</span><span style=\"color: #ff00ff; text-decoration-color: #ff00ff\">div</span><span style=\"color: #000000; text-decoration-color: #000000\">&gt;</span>\n",
       "<span style=\"color: #000000; text-decoration-color: #000000\">&lt;p </span><span style=\"color: #808000; text-decoration-color: #808000\">style</span><span style=\"color: #000000; text-decoration-color: #000000\">=</span><span style=\"color: #008000; text-decoration-color: #008000\">\"font-size:.9em;\"</span><span style=\"color: #000000; text-decoration-color: #000000\">&gt;</span><span style=\"color: #000000; text-decoration-color: #000000; font-weight: bold\">[</span><span style=\"color: #000000; text-decoration-color: #000000\"> Hall E </span><span style=\"color: #000000; text-decoration-color: #000000; font-weight: bold\">]</span><span style=\"color: #000000; text-decoration-color: #000000\">&lt;</span><span style=\"color: #800080; text-decoration-color: #800080\">/</span><span style=\"color: #ff00ff; text-decoration-color: #ff00ff\">p</span><span style=\"color: #000000; text-decoration-color: #000000\">&gt;</span>\n",
       "<span style=\"color: #000000; text-decoration-color: #000000\">&lt;img </span><span style=\"color: #808000; text-decoration-color: #808000\">alt</span><span style=\"color: #000000; text-decoration-color: #000000\">=</span><span style=\"color: #008000; text-decoration-color: #008000\">\"thumbnail\"</span><span style=\"color: #000000; text-decoration-color: #000000\"> </span><span style=\"color: #808000; text-decoration-color: #808000\">class</span><span style=\"color: #000000; text-decoration-color: #000000\">=</span><span style=\"color: #008000; text-decoration-color: #008000\">\"social-img-thumb\"</span><span style=\"color: #000000; text-decoration-color: #000000\"> </span>\n",
       "<span style=\"color: #808000; text-decoration-color: #808000\">src</span><span style=\"color: #000000; text-decoration-color: #000000\">=</span><span style=\"color: #008000; text-decoration-color: #008000\">\"/media/PosterPDFs/ICML%202022/d3630410c51e60941a9001a46871070e-thumb.png?t=1657525867.0852268\"</span><span style=\"color: #000000; text-decoration-color: #000000\">&gt;</span>\n",
       "<span style=\"color: #000000; text-decoration-color: #000000\">&lt;div </span><span style=\"color: #808000; text-decoration-color: #808000\">class</span><span style=\"color: #000000; text-decoration-color: #000000\">=</span><span style=\"color: #008000; text-decoration-color: #008000\">\"abstract-section\"</span><span style=\"color: #000000; text-decoration-color: #000000\">&gt;</span>\n",
       "<span style=\"color: #000000; text-decoration-color: #000000\">&lt;div&gt;</span>\n",
       "<span style=\"color: #000000; text-decoration-color: #000000\">&lt;a aria-</span><span style=\"color: #808000; text-decoration-color: #808000\">controls</span><span style=\"color: #000000; text-decoration-color: #000000\">=</span><span style=\"color: #008000; text-decoration-color: #008000\">\"collapse-event-abstract-16289\"</span><span style=\"color: #000000; text-decoration-color: #000000\"> aria-</span><span style=\"color: #808000; text-decoration-color: #808000\">expanded</span><span style=\"color: #000000; text-decoration-color: #000000\">=</span><span style=\"color: #008000; text-decoration-color: #008000\">\"false\"</span><span style=\"color: #000000; text-decoration-color: #000000\"> </span><span style=\"color: #808000; text-decoration-color: #808000\">class</span><span style=\"color: #000000; text-decoration-color: #000000\">=</span><span style=\"color: #008000; text-decoration-color: #008000\">\"abstract-link\"</span><span style=\"color: #000000; text-decoration-color: #000000\"> data-</span><span style=\"color: #808000; text-decoration-color: #808000\">toggle</span><span style=\"color: #000000; text-decoration-color: #000000\">=</span><span style=\"color: #008000; text-decoration-color: #008000\">\"collapse\"</span>\n",
       "<span style=\"color: #808000; text-decoration-color: #808000\">href</span><span style=\"color: #000000; text-decoration-color: #000000\">=</span><span style=\"color: #008000; text-decoration-color: #008000\">\"#collapse-event-abstract-16289\"</span><span style=\"color: #000000; text-decoration-color: #000000\"> </span><span style=\"color: #808000; text-decoration-color: #808000\">id</span><span style=\"color: #000000; text-decoration-color: #000000\">=</span><span style=\"color: #008000; text-decoration-color: #008000\">\"abstract-link-16289\"</span><span style=\"color: #000000; text-decoration-color: #000000\"> </span><span style=\"color: #808000; text-decoration-color: #808000\">role</span><span style=\"color: #000000; text-decoration-color: #000000\">=</span><span style=\"color: #008000; text-decoration-color: #008000\">\"button\"</span><span style=\"color: #000000; text-decoration-color: #000000\">&gt;</span>\n",
       "<span style=\"color: #000000; text-decoration-color: #000000\">                Abstract &lt;i </span><span style=\"color: #808000; text-decoration-color: #808000\">class</span><span style=\"color: #000000; text-decoration-color: #000000\">=</span><span style=\"color: #008000; text-decoration-color: #008000\">\"fas fa-caret-right\"</span><span style=\"color: #000000; text-decoration-color: #000000\"> </span><span style=\"color: #808000; text-decoration-color: #808000\">id</span><span style=\"color: #000000; text-decoration-color: #000000\">=</span><span style=\"color: #008000; text-decoration-color: #008000\">\"caret-16289\"</span><span style=\"color: #000000; text-decoration-color: #000000\">&gt;&lt;</span><span style=\"color: #800080; text-decoration-color: #800080\">/</span><span style=\"color: #ff00ff; text-decoration-color: #ff00ff\">i</span><span style=\"color: #000000; text-decoration-color: #000000\">&gt;</span>\n",
       "<span style=\"color: #000000; text-decoration-color: #000000\">&lt;</span><span style=\"color: #800080; text-decoration-color: #800080\">/</span><span style=\"color: #ff00ff; text-decoration-color: #ff00ff\">a</span><span style=\"color: #000000; text-decoration-color: #000000\">&gt;</span>\n",
       "<span style=\"color: #000000; text-decoration-color: #000000\">&lt;</span><span style=\"color: #800080; text-decoration-color: #800080\">/</span><span style=\"color: #ff00ff; text-decoration-color: #ff00ff\">div</span><span style=\"color: #000000; text-decoration-color: #000000\">&gt;</span>\n",
       "<span style=\"color: #000000; text-decoration-color: #000000\">&lt;</span><span style=\"color: #800080; text-decoration-color: #800080\">/</span><span style=\"color: #ff00ff; text-decoration-color: #ff00ff\">div</span><span style=\"color: #000000; text-decoration-color: #000000\">&gt;</span>\n",
       "<span style=\"color: #000000; text-decoration-color: #000000\">&lt;div </span><span style=\"color: #808000; text-decoration-color: #808000\">class</span><span style=\"color: #000000; text-decoration-color: #000000\">=</span><span style=\"color: #008000; text-decoration-color: #008000\">\"collapse\"</span><span style=\"color: #000000; text-decoration-color: #000000\"> </span><span style=\"color: #808000; text-decoration-color: #808000\">id</span><span style=\"color: #000000; text-decoration-color: #000000\">=</span><span style=\"color: #008000; text-decoration-color: #008000\">\"collapse-event-abstract-16289\"</span><span style=\"color: #000000; text-decoration-color: #000000\">&gt;</span>\n",
       "<span style=\"color: #000000; text-decoration-color: #000000\">&lt;div </span><span style=\"color: #808000; text-decoration-color: #808000\">class</span><span style=\"color: #000000; text-decoration-color: #000000\">=</span><span style=\"color: #008000; text-decoration-color: #008000\">\"abstract-display\"</span><span style=\"color: #000000; text-decoration-color: #000000\">&gt;</span>\n",
       "<span style=\"color: #000000; text-decoration-color: #000000\">&lt;p&gt;In the maximum state entropy exploration framework, an agent interacts with a reward-free environment to learn a</span>\n",
       "<span style=\"color: #000000; text-decoration-color: #000000\">policy that maximizes the entropy of the expected state visitations it is inducing. Hazan et al. </span><span style=\"color: #000000; text-decoration-color: #000000; font-weight: bold\">(</span><span style=\"color: #008080; text-decoration-color: #008080; font-weight: bold\">2019</span><span style=\"color: #000000; text-decoration-color: #000000; font-weight: bold\">)</span><span style=\"color: #000000; text-decoration-color: #000000\"> noted that </span>\n",
       "<span style=\"color: #000000; text-decoration-color: #000000\">the class of Markovian stochastic policies is sufficient for the maximum state entropy objective, and exploiting </span>\n",
       "<span style=\"color: #000000; text-decoration-color: #000000\">non-Markovianity is generally considered pointless in this setting. In this paper, we argue that non-Markovianity </span>\n",
       "<span style=\"color: #000000; text-decoration-color: #000000\">is instead paramount for maximum state entropy exploration in a finite-sample regime. Especially, we recast the </span>\n",
       "<span style=\"color: #000000; text-decoration-color: #000000\">objective to target the expected entropy of the induced state visitations in a single trial. Then, we show that the</span>\n",
       "<span style=\"color: #000000; text-decoration-color: #000000\">class of non-Markovian deterministic policies is sufficient for the introduced objective, while Markovian policies </span>\n",
       "<span style=\"color: #000000; text-decoration-color: #000000\">suffer non-zero regret in general. However, we prove that the problem of finding an optimal non-Markovian policy is</span>\n",
       "<span style=\"color: #000000; text-decoration-color: #000000\">NP-hard. Despite this negative result, we discuss avenues to address the problem in a tractable way and how </span>\n",
       "<span style=\"color: #000000; text-decoration-color: #000000\">non-Markovian exploration could benefit the sample efficiency of online reinforcement learning in future works.&lt;</span><span style=\"color: #800080; text-decoration-color: #800080\">/</span><span style=\"color: #ff00ff; text-decoration-color: #ff00ff\">p</span><span style=\"color: #000000; text-decoration-color: #000000\">&gt;</span>\n",
       "<span style=\"color: #000000; text-decoration-color: #000000\">&lt;</span><span style=\"color: #800080; text-decoration-color: #800080\">/</span><span style=\"color: #ff00ff; text-decoration-color: #ff00ff\">div</span><span style=\"color: #000000; text-decoration-color: #000000\">&gt;</span>\n",
       "<span style=\"color: #000000; text-decoration-color: #000000\">&lt;</span><span style=\"color: #800080; text-decoration-color: #800080\">/</span><span style=\"color: #ff00ff; text-decoration-color: #ff00ff\">div</span><span style=\"color: #000000; text-decoration-color: #000000\">&gt;</span>\n",
       "<span style=\"color: #000000; text-decoration-color: #000000\">&lt;</span><span style=\"color: #800080; text-decoration-color: #800080\">/</span><span style=\"color: #ff00ff; text-decoration-color: #ff00ff\">img</span><span style=\"color: #000000; text-decoration-color: #000000\">&gt;&lt;</span><span style=\"color: #800080; text-decoration-color: #800080\">/</span><span style=\"color: #ff00ff; text-decoration-color: #ff00ff\">div</span><span style=\"font-weight: bold\">&gt;</span>\n",
       "</pre>\n"
      ],
      "text/plain": [
       "\u001b[1m<\u001b[0m\u001b[1;95mdiv\u001b[0m\u001b[39m \u001b[0m\u001b[33mclass\u001b[0m\u001b[39m=\u001b[0m\u001b[32m\"displaycards\u001b[0m\u001b[32m touchup-date\"\u001b[0m\u001b[39m \u001b[0m\u001b[33mid\u001b[0m\u001b[39m=\u001b[0m\u001b[32m\"event\u001b[0m\u001b[32m-16289\"\u001b[0m\u001b[39m>\u001b[0m\n",
       "\u001b[39m<div \u001b[0m\u001b[33mstyle\u001b[0m\u001b[39m=\u001b[0m\u001b[32m\"width\u001b[0m\u001b[32m:80%;margin:auto;\"\u001b[0m\u001b[39m>\u001b[0m\n",
       "\u001b[39m<a \u001b[0m\u001b[33mclass\u001b[0m\u001b[39m=\u001b[0m\u001b[32m\"small\u001b[0m\u001b[32m-title\"\u001b[0m\u001b[39m \u001b[0m\u001b[33mhref\u001b[0m\u001b[39m=\u001b[0m\u001b[32m\"/virtual/2022/poster/16289\"\u001b[0m\u001b[39m>The Importance of Non-Markovianity in Maximum State \u001b[0m\n",
       "\u001b[39mEntropy Exploration<\u001b[0m\u001b[35m/\u001b[0m\u001b[95ma\u001b[0m\u001b[39m>\u001b[0m\n",
       "\u001b[39m<\u001b[0m\u001b[35m/\u001b[0m\u001b[95mdiv\u001b[0m\u001b[39m>\u001b[0m\n",
       "\u001b[39m<div \u001b[0m\u001b[33mclass\u001b[0m\u001b[39m=\u001b[0m\u001b[32m\"type_display_name_minus_type\"\u001b[0m\u001b[39m><\u001b[0m\u001b[35m/\u001b[0m\u001b[95mdiv\u001b[0m\u001b[39m>\u001b[0m\n",
       "\u001b[39m<div \u001b[0m\u001b[33mclass\u001b[0m\u001b[39m=\u001b[0m\u001b[32m\"author\u001b[0m\u001b[32m-str\"\u001b[0m\u001b[39m>Mirco Mutti · Riccardo De Santi · Marcello Restelli<\u001b[0m\u001b[35m/\u001b[0m\u001b[95mdiv\u001b[0m\u001b[39m>\u001b[0m\n",
       "\u001b[39m<div \u001b[0m\u001b[33mclass\u001b[0m\u001b[39m=\u001b[0m\u001b[32m\"author\u001b[0m\u001b[32m-str higher\"\u001b[0m\u001b[39m><\u001b[0m\u001b[35m/\u001b[0m\u001b[95mdiv\u001b[0m\u001b[39m>\u001b[0m\n",
       "\u001b[39m<div \u001b[0m\u001b[33mclass\u001b[0m\u001b[39m=\u001b[0m\u001b[32m\"text\u001b[0m\u001b[32m-muted touchup-date-div\"\u001b[0m\u001b[39m \u001b[0m\u001b[33mid\u001b[0m\u001b[39m=\u001b[0m\u001b[32m\"touchup\u001b[0m\u001b[32m-date-event-16289\"\u001b[0m\u001b[39m><\u001b[0m\u001b[35m/\u001b[0m\u001b[95mdiv\u001b[0m\u001b[39m>\u001b[0m\n",
       "\u001b[39m<p \u001b[0m\u001b[33mstyle\u001b[0m\u001b[39m=\u001b[0m\u001b[32m\"font\u001b[0m\u001b[32m-size:.9em;\"\u001b[0m\u001b[39m>\u001b[0m\u001b[1;39m[\u001b[0m\u001b[39m Hall E \u001b[0m\u001b[1;39m]\u001b[0m\u001b[39m<\u001b[0m\u001b[35m/\u001b[0m\u001b[95mp\u001b[0m\u001b[39m>\u001b[0m\n",
       "\u001b[39m<img \u001b[0m\u001b[33malt\u001b[0m\u001b[39m=\u001b[0m\u001b[32m\"thumbnail\"\u001b[0m\u001b[39m \u001b[0m\u001b[33mclass\u001b[0m\u001b[39m=\u001b[0m\u001b[32m\"social\u001b[0m\u001b[32m-img-thumb\"\u001b[0m\u001b[39m \u001b[0m\n",
       "\u001b[33msrc\u001b[0m\u001b[39m=\u001b[0m\u001b[32m\"/media/PosterPDFs/ICML%202022/d3630410c51e60941a9001a46871070e-thumb.png?\u001b[0m\u001b[32mt\u001b[0m\u001b[32m=\u001b[0m\u001b[32m1657525867\u001b[0m\u001b[32m.0852268\"\u001b[0m\u001b[39m>\u001b[0m\n",
       "\u001b[39m<div \u001b[0m\u001b[33mclass\u001b[0m\u001b[39m=\u001b[0m\u001b[32m\"abstract\u001b[0m\u001b[32m-section\"\u001b[0m\u001b[39m>\u001b[0m\n",
       "\u001b[39m<div>\u001b[0m\n",
       "\u001b[39m<a aria-\u001b[0m\u001b[33mcontrols\u001b[0m\u001b[39m=\u001b[0m\u001b[32m\"collapse\u001b[0m\u001b[32m-event-abstract-16289\"\u001b[0m\u001b[39m aria-\u001b[0m\u001b[33mexpanded\u001b[0m\u001b[39m=\u001b[0m\u001b[32m\"false\"\u001b[0m\u001b[39m \u001b[0m\u001b[33mclass\u001b[0m\u001b[39m=\u001b[0m\u001b[32m\"abstract\u001b[0m\u001b[32m-link\"\u001b[0m\u001b[39m data-\u001b[0m\u001b[33mtoggle\u001b[0m\u001b[39m=\u001b[0m\u001b[32m\"collapse\"\u001b[0m\n",
       "\u001b[33mhref\u001b[0m\u001b[39m=\u001b[0m\u001b[32m\"#collapse-event-abstract-16289\"\u001b[0m\u001b[39m \u001b[0m\u001b[33mid\u001b[0m\u001b[39m=\u001b[0m\u001b[32m\"abstract\u001b[0m\u001b[32m-link-16289\"\u001b[0m\u001b[39m \u001b[0m\u001b[33mrole\u001b[0m\u001b[39m=\u001b[0m\u001b[32m\"button\"\u001b[0m\u001b[39m>\u001b[0m\n",
       "\u001b[39m                Abstract <i \u001b[0m\u001b[33mclass\u001b[0m\u001b[39m=\u001b[0m\u001b[32m\"fas\u001b[0m\u001b[32m fa-caret-right\"\u001b[0m\u001b[39m \u001b[0m\u001b[33mid\u001b[0m\u001b[39m=\u001b[0m\u001b[32m\"caret\u001b[0m\u001b[32m-16289\"\u001b[0m\u001b[39m><\u001b[0m\u001b[35m/\u001b[0m\u001b[95mi\u001b[0m\u001b[39m>\u001b[0m\n",
       "\u001b[39m<\u001b[0m\u001b[35m/\u001b[0m\u001b[95ma\u001b[0m\u001b[39m>\u001b[0m\n",
       "\u001b[39m<\u001b[0m\u001b[35m/\u001b[0m\u001b[95mdiv\u001b[0m\u001b[39m>\u001b[0m\n",
       "\u001b[39m<\u001b[0m\u001b[35m/\u001b[0m\u001b[95mdiv\u001b[0m\u001b[39m>\u001b[0m\n",
       "\u001b[39m<div \u001b[0m\u001b[33mclass\u001b[0m\u001b[39m=\u001b[0m\u001b[32m\"collapse\"\u001b[0m\u001b[39m \u001b[0m\u001b[33mid\u001b[0m\u001b[39m=\u001b[0m\u001b[32m\"collapse\u001b[0m\u001b[32m-event-abstract-16289\"\u001b[0m\u001b[39m>\u001b[0m\n",
       "\u001b[39m<div \u001b[0m\u001b[33mclass\u001b[0m\u001b[39m=\u001b[0m\u001b[32m\"abstract\u001b[0m\u001b[32m-display\"\u001b[0m\u001b[39m>\u001b[0m\n",
       "\u001b[39m<p>In the maximum state entropy exploration framework, an agent interacts with a reward-free environment to learn a\u001b[0m\n",
       "\u001b[39mpolicy that maximizes the entropy of the expected state visitations it is inducing. Hazan et al. \u001b[0m\u001b[1;39m(\u001b[0m\u001b[1;36m2019\u001b[0m\u001b[1;39m)\u001b[0m\u001b[39m noted that \u001b[0m\n",
       "\u001b[39mthe class of Markovian stochastic policies is sufficient for the maximum state entropy objective, and exploiting \u001b[0m\n",
       "\u001b[39mnon-Markovianity is generally considered pointless in this setting. In this paper, we argue that non-Markovianity \u001b[0m\n",
       "\u001b[39mis instead paramount for maximum state entropy exploration in a finite-sample regime. Especially, we recast the \u001b[0m\n",
       "\u001b[39mobjective to target the expected entropy of the induced state visitations in a single trial. Then, we show that the\u001b[0m\n",
       "\u001b[39mclass of non-Markovian deterministic policies is sufficient for the introduced objective, while Markovian policies \u001b[0m\n",
       "\u001b[39msuffer non-zero regret in general. However, we prove that the problem of finding an optimal non-Markovian policy is\u001b[0m\n",
       "\u001b[39mNP-hard. Despite this negative result, we discuss avenues to address the problem in a tractable way and how \u001b[0m\n",
       "\u001b[39mnon-Markovian exploration could benefit the sample efficiency of online reinforcement learning in future works.<\u001b[0m\u001b[35m/\u001b[0m\u001b[95mp\u001b[0m\u001b[39m>\u001b[0m\n",
       "\u001b[39m<\u001b[0m\u001b[35m/\u001b[0m\u001b[95mdiv\u001b[0m\u001b[39m>\u001b[0m\n",
       "\u001b[39m<\u001b[0m\u001b[35m/\u001b[0m\u001b[95mdiv\u001b[0m\u001b[39m>\u001b[0m\n",
       "\u001b[39m<\u001b[0m\u001b[35m/\u001b[0m\u001b[95mimg\u001b[0m\u001b[39m><\u001b[0m\u001b[35m/\u001b[0m\u001b[95mdiv\u001b[0m\u001b[1m>\u001b[0m\n"
      ]
     },
     "metadata": {},
     "output_type": "display_data"
    }
   ],
   "source": [
    "rich.print(section_blocks['display_card'][1])\n"
   ]
  },
  {
   "cell_type": "markdown",
   "metadata": {},
   "source": [
    "### NIPS"
   ]
  },
  {
   "cell_type": "code",
   "execution_count": 11,
   "metadata": {},
   "outputs": [
    {
     "name": "stderr",
     "output_type": "stream",
     "text": [
      "  0%|          | 0/24 [00:00<?, ?it/s]"
     ]
    },
    {
     "data": {
      "text/html": [
       "<pre style=\"white-space:pre;overflow-x:auto;line-height:normal;font-family:Menlo,'DejaVu Sans Mono',consolas,'Courier New',monospace\">Failed to retrieve data for year <span style=\"color: #008080; text-decoration-color: #008080; font-weight: bold\">2000</span>\n",
       "</pre>\n"
      ],
      "text/plain": [
       "Failed to retrieve data for year \u001b[1;36m2000\u001b[0m\n"
      ]
     },
     "metadata": {},
     "output_type": "display_data"
    },
    {
     "name": "stderr",
     "output_type": "stream",
     "text": [
      "  4%|▍         | 1/24 [00:00<00:15,  1.45it/s]"
     ]
    },
    {
     "data": {
      "text/html": [
       "<pre style=\"white-space:pre;overflow-x:auto;line-height:normal;font-family:Menlo,'DejaVu Sans Mono',consolas,'Courier New',monospace\">Failed to retrieve data for year <span style=\"color: #008080; text-decoration-color: #008080; font-weight: bold\">2001</span>\n",
       "</pre>\n"
      ],
      "text/plain": [
       "Failed to retrieve data for year \u001b[1;36m2001\u001b[0m\n"
      ]
     },
     "metadata": {},
     "output_type": "display_data"
    },
    {
     "name": "stderr",
     "output_type": "stream",
     "text": [
      "  8%|▊         | 2/24 [00:01<00:18,  1.17it/s]"
     ]
    },
    {
     "data": {
      "text/html": [
       "<pre style=\"white-space:pre;overflow-x:auto;line-height:normal;font-family:Menlo,'DejaVu Sans Mono',consolas,'Courier New',monospace\">Failed to retrieve data for year <span style=\"color: #008080; text-decoration-color: #008080; font-weight: bold\">2002</span>\n",
       "</pre>\n"
      ],
      "text/plain": [
       "Failed to retrieve data for year \u001b[1;36m2002\u001b[0m\n"
      ]
     },
     "metadata": {},
     "output_type": "display_data"
    },
    {
     "name": "stderr",
     "output_type": "stream",
     "text": [
      " 12%|█▎        | 3/24 [00:02<00:13,  1.59it/s]"
     ]
    },
    {
     "data": {
      "text/html": [
       "<pre style=\"white-space:pre;overflow-x:auto;line-height:normal;font-family:Menlo,'DejaVu Sans Mono',consolas,'Courier New',monospace\">Failed to retrieve data for year <span style=\"color: #008080; text-decoration-color: #008080; font-weight: bold\">2003</span>\n",
       "</pre>\n"
      ],
      "text/plain": [
       "Failed to retrieve data for year \u001b[1;36m2003\u001b[0m\n"
      ]
     },
     "metadata": {},
     "output_type": "display_data"
    },
    {
     "name": "stderr",
     "output_type": "stream",
     "text": [
      " 17%|█▋        | 4/24 [00:02<00:10,  1.91it/s]"
     ]
    },
    {
     "data": {
      "text/html": [
       "<pre style=\"white-space:pre;overflow-x:auto;line-height:normal;font-family:Menlo,'DejaVu Sans Mono',consolas,'Courier New',monospace\">Failed to retrieve data for year <span style=\"color: #008080; text-decoration-color: #008080; font-weight: bold\">2004</span>\n",
       "</pre>\n"
      ],
      "text/plain": [
       "Failed to retrieve data for year \u001b[1;36m2004\u001b[0m\n"
      ]
     },
     "metadata": {},
     "output_type": "display_data"
    },
    {
     "name": "stderr",
     "output_type": "stream",
     "text": [
      " 21%|██        | 5/24 [00:02<00:08,  2.15it/s]"
     ]
    },
    {
     "data": {
      "text/html": [
       "<pre style=\"white-space:pre;overflow-x:auto;line-height:normal;font-family:Menlo,'DejaVu Sans Mono',consolas,'Courier New',monospace\">Failed to retrieve data for year <span style=\"color: #008080; text-decoration-color: #008080; font-weight: bold\">2005</span>\n",
       "</pre>\n"
      ],
      "text/plain": [
       "Failed to retrieve data for year \u001b[1;36m2005\u001b[0m\n"
      ]
     },
     "metadata": {},
     "output_type": "display_data"
    },
    {
     "name": "stderr",
     "output_type": "stream",
     "text": [
      "100%|██████████| 24/24 [00:15<00:00,  1.55it/s]\n"
     ]
    }
   ],
   "source": [
    "award_paper_by_year = {}\n",
    "for year in tqdm(range(2000, 2024)):\n",
    "    if year <= 2020:\n",
    "        url = f\"https://kdd.org/awards/view/2020-sigkdd-best-paper-award-winners\"\n",
    "        response = requests.get(url)\n",
    "        \n",
    "        if response.status_code != 200:\n",
    "            print(f\"Failed to retrieve data for year {year}\")\n",
    "            continue\n",
    "        \n",
    "        response.raise_for_status() \n",
    "        html_content = response.text\n",
    "\n",
    "        soup = BeautifulSoup(html_content, 'html.parser')\n",
    "\n",
    "        paper_rows = soup.find_all('tr')\n",
    "\n",
    "        papers_data = []\n",
    "\n",
    "        for row in paper_rows:\n",
    "            award_div = row.find('div')\n",
    "            if award_div:\n",
    "                award = award_div.text.strip()\n",
    "                paper_section = row.find('a', class_='small-title')\n",
    "                if paper_section:\n",
    "                    paper_title = paper_section.text.strip()\n",
    "                    link = paper_section.get('href', None)\n",
    "                    \n",
    "                    papers_data.append({\n",
    "                        'title': paper_title,\n",
    "                        'venue': \"NeurIPS\",\n",
    "                        'year': year,\n",
    "                        'award': award,\n",
    "                        'link': None\n",
    "                    })\n",
    "                else:\n",
    "                    print(f\"No Best Paper Awards section found for year {year}\")\n",
    "        award_paper_by_year[year] = papers_data\n",
    "    "
   ]
  },
  {
   "cell_type": "code",
   "execution_count": 22,
   "metadata": {},
   "outputs": [],
   "source": [
    "paper_list = []\n",
    "sorted_years = sorted(award_paper_by_year.keys(), reverse=True) \n",
    "for year in sorted_years:\n",
    "    for paper in award_paper_by_year[year]:\n",
    "        paper_list.append(paper)\n"
   ]
  },
  {
   "cell_type": "code",
   "execution_count": 24,
   "metadata": {},
   "outputs": [],
   "source": [
    "unique_papers = {}\n",
    "for paper in paper_list:\n",
    "    key = (paper['title'], paper['year'])\n",
    "    if key not in unique_papers:\n",
    "        unique_papers[key] = paper\n",
    "\n",
    "paper_list = list(unique_papers.values())"
   ]
  },
  {
   "cell_type": "code",
   "execution_count": 25,
   "metadata": {},
   "outputs": [
    {
     "data": {
      "text/plain": [
       "88"
      ]
     },
     "execution_count": 25,
     "metadata": {},
     "output_type": "execute_result"
    }
   ],
   "source": [
    "len(paper_list)"
   ]
  },
  {
   "cell_type": "code",
   "execution_count": 26,
   "metadata": {},
   "outputs": [],
   "source": [
    "out_f = open('neurips_best_papers.json', 'w')\n",
    "json.dump(paper_list, out_f, indent=2)\n",
    "out_f.flush()"
   ]
  },
  {
   "cell_type": "markdown",
   "metadata": {},
   "source": [
    "### True Run"
   ]
  },
  {
   "cell_type": "code",
   "execution_count": 4,
   "metadata": {},
   "outputs": [
    {
     "data": {
      "text/html": [
       "<pre style=\"white-space:pre;overflow-x:auto;line-height:normal;font-family:Menlo,'DejaVu Sans Mono',consolas,'Courier New',monospace\">Failed to retrieve data for year <span style=\"color: #008080; text-decoration-color: #008080; font-weight: bold\">2000</span>\n",
       "</pre>\n"
      ],
      "text/plain": [
       "Failed to retrieve data for year \u001b[1;36m2000\u001b[0m\n"
      ]
     },
     "metadata": {},
     "output_type": "display_data"
    },
    {
     "data": {
      "text/html": [
       "<pre style=\"white-space:pre;overflow-x:auto;line-height:normal;font-family:Menlo,'DejaVu Sans Mono',consolas,'Courier New',monospace\">Failed to retrieve data for year <span style=\"color: #008080; text-decoration-color: #008080; font-weight: bold\">2001</span>\n",
       "</pre>\n"
      ],
      "text/plain": [
       "Failed to retrieve data for year \u001b[1;36m2001\u001b[0m\n"
      ]
     },
     "metadata": {},
     "output_type": "display_data"
    },
    {
     "data": {
      "text/html": [
       "<pre style=\"white-space:pre;overflow-x:auto;line-height:normal;font-family:Menlo,'DejaVu Sans Mono',consolas,'Courier New',monospace\">Failed to retrieve data for year <span style=\"color: #008080; text-decoration-color: #008080; font-weight: bold\">2002</span>\n",
       "</pre>\n"
      ],
      "text/plain": [
       "Failed to retrieve data for year \u001b[1;36m2002\u001b[0m\n"
      ]
     },
     "metadata": {},
     "output_type": "display_data"
    },
    {
     "data": {
      "text/html": [
       "<pre style=\"white-space:pre;overflow-x:auto;line-height:normal;font-family:Menlo,'DejaVu Sans Mono',consolas,'Courier New',monospace\">Failed to retrieve data for year <span style=\"color: #008080; text-decoration-color: #008080; font-weight: bold\">2003</span>\n",
       "</pre>\n"
      ],
      "text/plain": [
       "Failed to retrieve data for year \u001b[1;36m2003\u001b[0m\n"
      ]
     },
     "metadata": {},
     "output_type": "display_data"
    },
    {
     "data": {
      "text/html": [
       "<pre style=\"white-space:pre;overflow-x:auto;line-height:normal;font-family:Menlo,'DejaVu Sans Mono',consolas,'Courier New',monospace\">Failed to retrieve data for year <span style=\"color: #008080; text-decoration-color: #008080; font-weight: bold\">2004</span>\n",
       "</pre>\n"
      ],
      "text/plain": [
       "Failed to retrieve data for year \u001b[1;36m2004\u001b[0m\n"
      ]
     },
     "metadata": {},
     "output_type": "display_data"
    },
    {
     "data": {
      "text/html": [
       "<pre style=\"white-space:pre;overflow-x:auto;line-height:normal;font-family:Menlo,'DejaVu Sans Mono',consolas,'Courier New',monospace\">Failed to retrieve data for year <span style=\"color: #008080; text-decoration-color: #008080; font-weight: bold\">2005</span>\n",
       "</pre>\n"
      ],
      "text/plain": [
       "Failed to retrieve data for year \u001b[1;36m2005\u001b[0m\n"
      ]
     },
     "metadata": {},
     "output_type": "display_data"
    },
    {
     "data": {
      "text/html": [
       "<pre style=\"white-space:pre;overflow-x:auto;line-height:normal;font-family:Menlo,'DejaVu Sans Mono',consolas,'Courier New',monospace\">Failed to retrieve data for year <span style=\"color: #008080; text-decoration-color: #008080; font-weight: bold\">2006</span>\n",
       "</pre>\n"
      ],
      "text/plain": [
       "Failed to retrieve data for year \u001b[1;36m2006\u001b[0m\n"
      ]
     },
     "metadata": {},
     "output_type": "display_data"
    },
    {
     "data": {
      "text/html": [
       "<pre style=\"white-space:pre;overflow-x:auto;line-height:normal;font-family:Menlo,'DejaVu Sans Mono',consolas,'Courier New',monospace\">Failed to retrieve data for year <span style=\"color: #008080; text-decoration-color: #008080; font-weight: bold\">2007</span>\n",
       "</pre>\n"
      ],
      "text/plain": [
       "Failed to retrieve data for year \u001b[1;36m2007\u001b[0m\n"
      ]
     },
     "metadata": {},
     "output_type": "display_data"
    },
    {
     "data": {
      "text/html": [
       "<pre style=\"white-space:pre;overflow-x:auto;line-height:normal;font-family:Menlo,'DejaVu Sans Mono',consolas,'Courier New',monospace\">Failed to retrieve data for year <span style=\"color: #008080; text-decoration-color: #008080; font-weight: bold\">2008</span>\n",
       "</pre>\n"
      ],
      "text/plain": [
       "Failed to retrieve data for year \u001b[1;36m2008\u001b[0m\n"
      ]
     },
     "metadata": {},
     "output_type": "display_data"
    },
    {
     "data": {
      "text/html": [
       "<pre style=\"white-space:pre;overflow-x:auto;line-height:normal;font-family:Menlo,'DejaVu Sans Mono',consolas,'Courier New',monospace\">Failed to retrieve data for year <span style=\"color: #008080; text-decoration-color: #008080; font-weight: bold\">2009</span>\n",
       "</pre>\n"
      ],
      "text/plain": [
       "Failed to retrieve data for year \u001b[1;36m2009\u001b[0m\n"
      ]
     },
     "metadata": {},
     "output_type": "display_data"
    },
    {
     "data": {
      "text/html": [
       "<pre style=\"white-space:pre;overflow-x:auto;line-height:normal;font-family:Menlo,'DejaVu Sans Mono',consolas,'Courier New',monospace\">Failed to retrieve data for year <span style=\"color: #008080; text-decoration-color: #008080; font-weight: bold\">2010</span>\n",
       "</pre>\n"
      ],
      "text/plain": [
       "Failed to retrieve data for year \u001b[1;36m2010\u001b[0m\n"
      ]
     },
     "metadata": {},
     "output_type": "display_data"
    },
    {
     "data": {
      "text/html": [
       "<pre style=\"white-space:pre;overflow-x:auto;line-height:normal;font-family:Menlo,'DejaVu Sans Mono',consolas,'Courier New',monospace\">Failed to retrieve data for year <span style=\"color: #008080; text-decoration-color: #008080; font-weight: bold\">2011</span>\n",
       "</pre>\n"
      ],
      "text/plain": [
       "Failed to retrieve data for year \u001b[1;36m2011\u001b[0m\n"
      ]
     },
     "metadata": {},
     "output_type": "display_data"
    },
    {
     "data": {
      "text/html": [
       "<pre style=\"white-space:pre;overflow-x:auto;line-height:normal;font-family:Menlo,'DejaVu Sans Mono',consolas,'Courier New',monospace\">Failed to retrieve data for year <span style=\"color: #008080; text-decoration-color: #008080; font-weight: bold\">2012</span>\n",
       "</pre>\n"
      ],
      "text/plain": [
       "Failed to retrieve data for year \u001b[1;36m2012\u001b[0m\n"
      ]
     },
     "metadata": {},
     "output_type": "display_data"
    },
    {
     "data": {
      "text/html": [
       "<pre style=\"white-space:pre;overflow-x:auto;line-height:normal;font-family:Menlo,'DejaVu Sans Mono',consolas,'Courier New',monospace\">Failed to retrieve data for year <span style=\"color: #008080; text-decoration-color: #008080; font-weight: bold\">2013</span>\n",
       "</pre>\n"
      ],
      "text/plain": [
       "Failed to retrieve data for year \u001b[1;36m2013\u001b[0m\n"
      ]
     },
     "metadata": {},
     "output_type": "display_data"
    },
    {
     "data": {
      "text/html": [
       "<pre style=\"white-space:pre;overflow-x:auto;line-height:normal;font-family:Menlo,'DejaVu Sans Mono',consolas,'Courier New',monospace\">Failed to retrieve data for year <span style=\"color: #008080; text-decoration-color: #008080; font-weight: bold\">2014</span>\n",
       "</pre>\n"
      ],
      "text/plain": [
       "Failed to retrieve data for year \u001b[1;36m2014\u001b[0m\n"
      ]
     },
     "metadata": {},
     "output_type": "display_data"
    },
    {
     "data": {
      "text/html": [
       "<pre style=\"white-space:pre;overflow-x:auto;line-height:normal;font-family:Menlo,'DejaVu Sans Mono',consolas,'Courier New',monospace\">Failed to retrieve data for year <span style=\"color: #008080; text-decoration-color: #008080; font-weight: bold\">2015</span>\n",
       "</pre>\n"
      ],
      "text/plain": [
       "Failed to retrieve data for year \u001b[1;36m2015\u001b[0m\n"
      ]
     },
     "metadata": {},
     "output_type": "display_data"
    }
   ],
   "source": [
    "award_paper_by_year = {}\n",
    "for year in range(2000, 2024):\n",
    "    if year >= 2018 and year <= 2020:\n",
    "        url = f\"https://kdd.org/awards/view/{year}-sigkdd-best-paper-award-winners\"\n",
    "        response = requests.get(url)\n",
    "        \n",
    "        if response.status_code != 200:\n",
    "            print(f\"Failed to retrieve data for year {year}\")\n",
    "            continue\n",
    "        \n",
    "        response.raise_for_status() \n",
    "        html_content = response.text\n",
    "\n",
    "        soup = BeautifulSoup(html_content, 'html.parser')\n",
    "\n",
    "        papers_data = []\n",
    "\n",
    "        # 查找所有track标题\n",
    "        track_headers = soup.find_all('h2')\n",
    "\n",
    "        for header in track_headers:\n",
    "            track = header.text.strip()\n",
    "            award_paragraphs = header.find_next_siblings('p')\n",
    "            \n",
    "            for i in range(0, len(award_paragraphs), 2):\n",
    "                if i+1 < len(award_paragraphs):\n",
    "                    award_p = award_paragraphs[i]\n",
    "                    paper_p = award_paragraphs[i+1]\n",
    "                    \n",
    "                    award = award_p.find('strong').text.strip() if award_p.find('strong') else \"\"\n",
    "                    paper_link = paper_p.find('a')\n",
    "                    \n",
    "                    if paper_link:\n",
    "                        paper_title = paper_link.text.strip()\n",
    "                        link = paper_link.get('href', None)\n",
    "                        \n",
    "                        full_award = f\"{award} {track}\".strip()\n",
    "                        \n",
    "                        papers_data.append({\n",
    "                            'title': paper_title,\n",
    "                            'venue': \"SIGKDD\",\n",
    "                            'year': year,\n",
    "                            'award': full_award,\n",
    "                            'link': link\n",
    "                        })\n",
    "\n",
    "        award_paper_by_year[year] = papers_data\n",
    "\n",
    "        if not papers_data:\n",
    "            print(f\"No Paper Awards found for year {year}\")\n",
    "    elif year > 2015 and year <= 2017:\n",
    "        \n",
    "        url = f\"https://kdd.org/awards/view/{year}-sigkdd-best-paper-award-winners\"\n",
    "        response = requests.get(url)\n",
    "        \n",
    "        if response.status_code != 200:\n",
    "            print(f\"Failed to retrieve data for year {year}\")\n",
    "            continue\n",
    "        \n",
    "        response.raise_for_status() \n",
    "        html_content = response.text\n",
    "\n",
    "        soup = BeautifulSoup(html_content, 'html.parser')\n",
    "\n",
    "        papers_data = []\n",
    "\n",
    "        track_headers = soup.find_all('h2')\n",
    "\n",
    "        for header in track_headers:\n",
    "            track = header.text.strip()\n",
    "            award_paragraphs = header.find_next_siblings('p')\n",
    "            \n",
    "            award = \"\"\n",
    "            for p in award_paragraphs:\n",
    "                if p.find('strong'):\n",
    "                    strong_text = p.find('strong').text.strip()\n",
    "                    if \"AWARD\" in strong_text:\n",
    "                        award = strong_text\n",
    "                    elif p.find('a'):\n",
    "                        paper_link = p.find('a')\n",
    "                        paper_title = paper_link.text.strip()\n",
    "                        link = paper_link.get('href', None)\n",
    "                        \n",
    "                        full_award = f\"{award} {strong_text} {track}\".strip()\n",
    "                        \n",
    "                        papers_data.append({\n",
    "                            'title': paper_title,\n",
    "                            'venue': \"SIGKDD\",\n",
    "                            'year': year,\n",
    "                            'award': full_award,\n",
    "                            'link': link\n",
    "                        })\n",
    "                elif award and p.find('a'):\n",
    "                    paper_link = p.find('a')\n",
    "                    paper_title = paper_link.text.strip()\n",
    "                    link = paper_link.get('href', None)\n",
    "                    \n",
    "                    full_award = f\"{award} {track}\".strip()\n",
    "                    \n",
    "                    papers_data.append({\n",
    "                        'title': paper_title,\n",
    "                        'venue': \"SIGKDD\",\n",
    "                        'year': year,\n",
    "                        'award': full_award,\n",
    "                        'link': link\n",
    "                    })\n",
    "\n",
    "        award_paper_by_year[year] = papers_data\n",
    "\n",
    "        if not papers_data:\n",
    "            print(f\"No Paper Awards found for year {year}\")\n",
    "    elif year <= 2015:\n",
    "        url = f\"https://www.kdd.org/kdd{year}/accepted-papers/view\"\n",
    "        response = requests.get(url)\n",
    "        \n",
    "        if response.status_code != 200:\n",
    "            print(f\"Failed to retrieve data for year {year}\")\n",
    "            continue\n",
    "        \n",
    "        response.raise_for_status() \n",
    "        html_content = response.text\n",
    "\n",
    "        soup = BeautifulSoup(html_content, 'html.parser')\n",
    "\n",
    "        papers_data = []\n",
    "\n",
    "        track_headers = soup.find_all('h2')  # Find all headers which often mark the beginning of a section\n",
    "\n",
    "        for header in track_headers:\n",
    "            track = header.text.strip()\n",
    "            award_paragraphs = header.find_next_siblings('p')  # Find paragraphs that are siblings of the header\n",
    "\n",
    "            award = \"\"\n",
    "            for p in award_paragraphs:\n",
    "                strong = p.find('strong')\n",
    "                if strong:\n",
    "                    strong_text = strong.text.strip()\n",
    "                    if \"AWARD\" in strong_text:\n",
    "                        award = strong_text  # Update award description when it's mentioned\n",
    "                link = p.find('a')\n",
    "                if link:\n",
    "                    paper_title = link.text.strip()\n",
    "                    paper_link = link.get('href', None)\n",
    "                    full_award = f\"{award} {track}\".strip()  # Construct a full award title\n",
    "                    \n",
    "                    papers_data.append({\n",
    "                        'title': paper_title,\n",
    "                        'venue': \"SIGKDD\",\n",
    "                        'year': year,\n",
    "                        'award': full_award,\n",
    "                        'link': paper_link\n",
    "                    })\n",
    "\n",
    "        if not papers_data:\n",
    "            print(f\"No Paper Awards found for year {year}\")"
   ]
  },
  {
   "cell_type": "code",
   "execution_count": 6,
   "metadata": {},
   "outputs": [
    {
     "data": {
      "text/plain": [
       "[{'title': 'On Sampled Metrics for Item Recommendation',\n",
       "  'venue': 'SIGKDD',\n",
       "  'year': 2020,\n",
       "  'award': 'BEST PAPER AWARD Research Track',\n",
       "  'link': 'https://www.kdd.org/kdd2020/accepted-papers/view/on-sampled-metrics-for-item-recommendation'},\n",
       " {'title': 'Malicious Attacks against Deep Reinforcement Learning Interpretations',\n",
       "  'venue': 'SIGKDD',\n",
       "  'year': 2020,\n",
       "  'award': 'BEST PAPER AWARD RUNNER-UP Research Track',\n",
       "  'link': 'https://www.kdd.org/kdd2020/accepted-papers/view/malicious-attacks-against-deep-reinforcement-learning-interpretations'},\n",
       " {'title': 'TIPRDC: Task-Independent Privacy-Respecting Data Crowdsourcing Framework for Deep Learning with Anonymized Intermediate Representations',\n",
       "  'venue': 'SIGKDD',\n",
       "  'year': 2020,\n",
       "  'award': 'BEST STUDENT PAPER AWARD Research Track',\n",
       "  'link': 'https://www.kdd.org/kdd2020/accepted-papers/view/tiprdc-task-independent-privacy-respecting-data-crowdsourcing-framework-for'},\n",
       " {'title': 'Temporal-Contextual Recommendation in Real-Time',\n",
       "  'venue': 'SIGKDD',\n",
       "  'year': 2020,\n",
       "  'award': 'BEST PAPER AWARD Research Track',\n",
       "  'link': 'https://www.kdd.org/kdd2020/accepted-papers/view/temporal-contextual-recommendation-in-real-time'},\n",
       " {'title': 'Temporal-Contextual Recommendation in Real-Time',\n",
       "  'venue': 'SIGKDD',\n",
       "  'year': 2020,\n",
       "  'award': 'BEST PAPER AWARD Applied Data Science Track',\n",
       "  'link': 'https://www.kdd.org/kdd2020/accepted-papers/view/temporal-contextual-recommendation-in-real-time'}]"
      ]
     },
     "execution_count": 6,
     "metadata": {},
     "output_type": "execute_result"
    }
   ],
   "source": [
    "award_paper_by_year[2020]"
   ]
  },
  {
   "cell_type": "code",
   "execution_count": 7,
   "metadata": {},
   "outputs": [],
   "source": [
    "paper_list = []\n",
    "sorted_years = sorted(award_paper_by_year.keys(), reverse=True) \n",
    "for year in sorted_years:\n",
    "    for paper in award_paper_by_year[year]:\n",
    "        paper_list.append(paper)"
   ]
  },
  {
   "cell_type": "code",
   "execution_count": 8,
   "metadata": {},
   "outputs": [],
   "source": [
    "unique_papers = {}\n",
    "for paper in paper_list:\n",
    "    key = (paper['title'], paper['year'])\n",
    "    if key not in unique_papers:\n",
    "        unique_papers[key] = paper\n",
    "\n",
    "paper_list = list(unique_papers.values())"
   ]
  },
  {
   "cell_type": "code",
   "execution_count": 9,
   "metadata": {},
   "outputs": [
    {
     "data": {
      "text/plain": [
       "13"
      ]
     },
     "execution_count": 9,
     "metadata": {},
     "output_type": "execute_result"
    }
   ],
   "source": [
    "len(paper_list)"
   ]
  },
  {
   "cell_type": "code",
   "execution_count": 56,
   "metadata": {},
   "outputs": [],
   "source": [
    "out_f = open('iclr_best_papers.json', 'w')\n",
    "json.dump(paper_list, out_f, indent=2)\n",
    "out_f.flush()"
   ]
  }
 ],
 "metadata": {
  "kernelspec": {
   "display_name": "llm_persona",
   "language": "python",
   "name": "python3"
  },
  "language_info": {
   "codemirror_mode": {
    "name": "ipython",
    "version": 3
   },
   "file_extension": ".py",
   "mimetype": "text/x-python",
   "name": "python",
   "nbconvert_exporter": "python",
   "pygments_lexer": "ipython3",
   "version": "3.10.14"
  }
 },
 "nbformat": 4,
 "nbformat_minor": 2
}
