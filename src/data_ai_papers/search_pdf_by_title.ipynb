{
 "cells": [
  {
   "cell_type": "code",
   "execution_count": 1,
   "metadata": {},
   "outputs": [],
   "source": [
    "%load_ext autoreload\n",
    "%autoreload 2"
   ]
  },
  {
   "cell_type": "markdown",
   "metadata": {},
   "source": [
    "test"
   ]
  },
  {
   "cell_type": "code",
   "execution_count": 4,
   "metadata": {},
   "outputs": [
    {
     "name": "stdout",
     "output_type": "stream",
     "text": [
      "https://arxiv.org/abs/1703.06870\n",
      "<class 'str'>\n",
      "https://github.com/matterport/Mask_RCNN\n",
      "<class 'str'>\n",
      "https://viso.ai/deep-learning/mask-r-cnn/\n",
      "<class 'str'>\n",
      "https://www.analyticsvidhya.com/blog/2019/07/computer-vision-implementing-mask-r-cnn-image-segmentation/\n",
      "<class 'str'>\n",
      "https://developers.arcgis.com/python/guide/how-maskrcnn-works/\n",
      "<class 'str'>\n"
     ]
    }
   ],
   "source": [
    "from googlesearch import search\n",
    "\n",
    "# Define the query\n",
    "query = \"Mask R-CNN\"\n",
    "\n",
    "# Perform the search and print the first 10 results\n",
    "for url in search(query, num_results=5):\n",
    "    print(url)\n",
    "    print(type(url))\n"
   ]
  },
  {
   "cell_type": "markdown",
   "metadata": {},
   "source": []
  }
 ],
 "metadata": {
  "kernelspec": {
   "display_name": "new",
   "language": "python",
   "name": "new"
  },
  "language_info": {
   "codemirror_mode": {
    "name": "ipython",
    "version": 3
   },
   "file_extension": ".py",
   "mimetype": "text/x-python",
   "name": "python",
   "nbconvert_exporter": "python",
   "pygments_lexer": "ipython3",
   "version": "3.11.5"
  }
 },
 "nbformat": 4,
 "nbformat_minor": 2
}
