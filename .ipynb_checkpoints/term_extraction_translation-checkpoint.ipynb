{
 "cells": [
  {
   "cell_type": "code",
   "execution_count": 3,
   "metadata": {},
   "outputs": [
    {
     "name": "stdout",
     "output_type": "stream",
     "text": [
      "The autoreload extension is already loaded. To reload it, use:\n",
      "  %reload_ext autoreload\n"
     ]
    }
   ],
   "source": [
    "%load_ext autoreload\n",
    "%autoreload 2"
   ]
  },
  {
   "cell_type": "code",
   "execution_count": 4,
   "metadata": {},
   "outputs": [
    {
     "name": "stderr",
     "output_type": "stream",
     "text": [
      "/home/iouzzani/anaconda3/envs/myenv/lib/python3.9/site-packages/transformers/deepspeed.py:23: FutureWarning: transformers.deepspeed module is deprecated and will be removed in a future version. Please import deepspeed modules directly from transformers.integrations\n",
      "  warnings.warn(\n",
      "[nltk_data] Downloading package punkt to /home/iouzzani/nltk_data...\n",
      "[nltk_data]   Package punkt is already up-to-date!\n"
     ]
    },
    {
     "ename": "NameError",
     "evalue": "name 'translator' is not defined",
     "output_type": "error",
     "traceback": [
      "\u001b[0;31m---------------------------------------------------------------------------\u001b[0m",
      "\u001b[0;31mNameError\u001b[0m                                 Traceback (most recent call last)",
      "Cell \u001b[0;32mIn[4], line 12\u001b[0m\n\u001b[1;32m      9\u001b[0m \u001b[38;5;28;01mfrom\u001b[39;00m \u001b[38;5;21;01msrc\u001b[39;00m\u001b[38;5;21;01m.\u001b[39;00m\u001b[38;5;21;01mtranslator\u001b[39;00m\u001b[38;5;21;01m.\u001b[39;00m\u001b[38;5;21;01mtranslator\u001b[39;00m \u001b[38;5;28;01mimport\u001b[39;00m LocalTranslator\n\u001b[1;32m     11\u001b[0m \u001b[38;5;66;03m# from prompts import *\u001b[39;00m\n\u001b[0;32m---> 12\u001b[0m trans \u001b[38;5;241m=\u001b[39m \u001b[43mtranslator\u001b[49m\u001b[38;5;241m.\u001b[39mTranslator()\n\u001b[1;32m     13\u001b[0m google_trans \u001b[38;5;241m=\u001b[39m Translator()\n\u001b[1;32m     15\u001b[0m trans_model \u001b[38;5;241m=\u001b[39m \u001b[38;5;124m\"\u001b[39m\u001b[38;5;124mgoogle_trans\u001b[39m\u001b[38;5;124m\"\u001b[39m\n",
      "\u001b[0;31mNameError\u001b[0m: name 'translator' is not defined"
     ]
    }
   ],
   "source": [
    "import json\n",
    "import pandas as pd\n",
    "import ast\n",
    "from tqdm import tqdm\n",
    "from googletrans import Translator\n",
    "from src.models.llm import call\n",
    "from src.models.utils import *\n",
    "from src.models.config import get_model_config\n",
    "from src.translator.translator import LocalTranslator\n",
    "\n",
    "# from prompts import *\n",
    "trans = LocalTranslator()\n",
    "google_trans = Translator()\n",
    "\n",
    "trans_model = \"google_trans\" # \"google_trans\" or \"seamless_m4t\""
   ]
  },
  {
   "cell_type": "code",
   "execution_count": null,
   "metadata": {},
   "outputs": [],
   "source": [
    "# model = 'llama3_8b'\n",
    "# def llm_config_func(llm):\n",
    "#     llm.temperature = 0\n",
    "#     llm.max_tokens = 4096\n",
    "#     return llm\n",
    "# config = get_model_config(model)\n",
    "\n",
    "### llama2 7b\n",
    "# model = 'llama2_7b'\n",
    "# def llm_config_func(llm):\n",
    "#     llm.temperature = 0\n",
    "#     llm.max_tokens = 2048\n",
    "#     return llm\n",
    "# config = get_model_config(model)\n",
    "\n",
    "### gpt3.5\n",
    "model = 'gpt-3.5-turbo'\n",
    "def llm_config_func(llm):\n",
    "    llm.temperature = 0.8\n",
    "    llm.max_tokens = 4096\n",
    "    return llm\n",
    "config = get_model_config(model)"
   ]
  },
  {
   "cell_type": "code",
   "execution_count": null,
   "metadata": {},
   "outputs": [],
   "source": [
    "import os\n",
    "\n",
    "mc_file_paths = []\n",
    "for filename in os.listdir(\"src/data_model_cards/claude3\"):\n",
    "    mc_file_paths.append(\"src/data_model_cards/claude3/\"+filename)\n",
    "\n",
    "f = open(mc_file_paths[0], \"r\")\n",
    "mc_text = f.read()"
   ]
  },
  {
   "cell_type": "code",
   "execution_count": null,
   "metadata": {},
   "outputs": [],
   "source": [
    "# extracting scientific jargon from English model cards\n",
    "\n",
    "prompt = [\n",
    "    \"\"\"You are a language expert with a focus on machine translation. Your task is to analyze the following text and identify scientific jargon or terminology within the field of machine learning that might be challenging for machine translation software to accurately translate. List these terms in a clear, concise format.\n",
    "        Response Format: [Term 1, Term 2, Term 3, ...]\"\"\",\n",
    "        \n",
    "    \"\"\"The following text is:\n",
    "       \"{text}\"\n",
    "    \"\"\".format(text=mc_text)\n",
    "]\n",
    "\n",
    "res = call(\n",
    "    prompt,\n",
    "    llm_config_func,\n",
    "    has_system_prompt=True,\n",
    "    model_version=model,\n",
    "    verbose=True,\n",
    "    **config\n",
    ")\n",
    "\n",
    "term_lst = list(map(lambda s: s.strip(), res[1:-1].split(\",\"))) # could be better \n",
    "\n",
    "print(res, term_lst)\n"
   ]
  },
  {
   "cell_type": "code",
   "execution_count": null,
   "metadata": {},
   "outputs": [],
   "source": [
    "# if terms not in scientific jargon dictionary, add to dictionary with translations\n",
    "\n",
    "if trans_model == \"seamless_m4t\":\n",
    "    scientific_jargon_dict = trans.read_json_file('src/scientific_jargon_dict.json')\n",
    "    \n",
    "    tmp_dict = {\"Chinese\":{},\"Russian\":{}, \"Japanese\":{}, \"French\":{}, \"Arabic\":{}}\n",
    "    for term in term_lst:\n",
    "        if term not in scientific_jargon_dict[\"Chinese\"]:\n",
    "            tmp_dict[\"Chinese\"][term] = \"\"\n",
    "            tmp_dict[\"Russian\"][term] = \"\"\n",
    "            tmp_dict[\"Japanese\"][term] = \"\"\n",
    "            tmp_dict[\"French\"][term] = \"\"\n",
    "            tmp_dict[\"Arabic\"][term] = \"\"\n",
    "        \n",
    "    trans.translate_term_m4t(tmp_dict, \"English\", \"Chinese\")\n",
    "    print(\"Chinese translation complete\")\n",
    "    \n",
    "    trans.translate_term_m4t(tmp_dict, \"English\", \"Russian\")\n",
    "    print(\"Russian translation complete\")\n",
    "    \n",
    "    trans.translate_term_m4t(tmp_dict, \"English\", \"Japanese\")\n",
    "    print(\"Japanese translation complete\")\n",
    "    \n",
    "    trans.translate_term_m4t(tmp_dict, \"English\", \"French\")\n",
    "    print(\"French translation complete\")\n",
    "    \n",
    "    trans.translate_term_m4t(tmp_dict, \"English\", \"Arabic\")\n",
    "    print(\"Arabic translation complete\")\n",
    "    \n",
    "    scientific_jargon_dict.update(tmp_dict)\n",
    "    trans.write_file_to_json(scientific_jargon_dict, 'src/scientific_jargon_dict.json')\n",
    "\n",
    "elif trans_model == \"google_trans\":\n",
    "    scientific_jargon_dict = trans.read_json_file('src/scientific_jargon_dict.json')\n",
    "    \n",
    "    for term in term_lst:\n",
    "        if term not in scientific_jargon_dict[\"Chinese\"]:\n",
    "            scientific_jargon_dict[\"Chinese\"][term] = google_trans.translate(term, dest='zh')\n",
    "            scientific_jargon_dict[\"Russian\"][term] = google_trans.translate(term, dest='ru')\n",
    "            scientific_jargon_dict[\"Japanese\"][term] = google_trans.translate(term, dest='ja')\n",
    "            scientific_jargon_dict[\"French\"][term] = google_trans.translate(term, dest='fr')\n",
    "            scientific_jargon_dict[\"Arabic\"][term] = google_trans.translate(term, dest='ar')\n",
    "            \n",
    "    trans.write_file_to_json(scientific_jargon_dict, 'src/scientific_jargon_dict.json')\n",
    "    \n",
    "else:\n",
    "    print(\"unknown translation model\")"
   ]
  },
  {
   "cell_type": "code",
   "execution_count": null,
   "metadata": {},
   "outputs": [],
   "source": []
  }
 ],
 "metadata": {
  "kernelspec": {
   "display_name": "Python 3 (ipykernel)",
   "language": "python",
   "name": "python3"
  },
  "language_info": {
   "codemirror_mode": {
    "name": "ipython",
    "version": 3
   },
   "file_extension": ".py",
   "mimetype": "text/x-python",
   "name": "python",
   "nbconvert_exporter": "python",
   "pygments_lexer": "ipython3",
   "version": "3.9.19"
  }
 },
 "nbformat": 4,
 "nbformat_minor": 4
}
